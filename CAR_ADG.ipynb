{
 "cells": [
  {
   "cell_type": "code",
   "execution_count": 1,
   "id": "0210dd9c",
   "metadata": {},
   "outputs": [],
   "source": [
    "import pandas as pd\n",
    "import numpy as np\n",
    "import seaborn as sns\n",
    "import matplotlib.pyplot as plt\n",
    "import scipy\n",
    "from scipy import stats\n",
    "import sklearn \n",
    "from sklearn.linear_model import LinearRegression\n",
    "from sklearn.preprocessing import PolynomialFeatures\n",
    "from sklearn import linear_model\n",
    "from sklearn import preprocessing \n",
    "%matplotlib inline"
   ]
  },
  {
   "cell_type": "code",
   "execution_count": 2,
   "id": "cb793e48",
   "metadata": {},
   "outputs": [
    {
     "name": "stdout",
     "output_type": "stream",
     "text": [
      "Requirement already satisfied: imbalanced-learn in /Library/Frameworks/Python.framework/Versions/3.9/lib/python3.9/site-packages (0.8.0)\n",
      "Requirement already satisfied: joblib>=0.11 in /Library/Frameworks/Python.framework/Versions/3.9/lib/python3.9/site-packages (from imbalanced-learn) (1.0.1)\n",
      "Requirement already satisfied: numpy>=1.13.3 in /Library/Frameworks/Python.framework/Versions/3.9/lib/python3.9/site-packages (from imbalanced-learn) (1.20.2)\n",
      "Requirement already satisfied: scipy>=0.19.1 in /Library/Frameworks/Python.framework/Versions/3.9/lib/python3.9/site-packages (from imbalanced-learn) (1.6.3)\n",
      "Requirement already satisfied: scikit-learn>=0.24 in /Library/Frameworks/Python.framework/Versions/3.9/lib/python3.9/site-packages (from imbalanced-learn) (0.24.2)\n",
      "Requirement already satisfied: threadpoolctl>=2.0.0 in /Library/Frameworks/Python.framework/Versions/3.9/lib/python3.9/site-packages (from scikit-learn>=0.24->imbalanced-learn) (2.1.0)\n",
      "\u001b[33mWARNING: You are using pip version 21.1.1; however, version 21.1.2 is available.\n",
      "You should consider upgrading via the '/Library/Frameworks/Python.framework/Versions/3.9/bin/python3.9 -m pip install --upgrade pip' command.\u001b[0m\n",
      "Note: you may need to restart the kernel to use updated packages.\n"
     ]
    }
   ],
   "source": [
    "pip install -U imbalanced-learn"
   ]
  },
  {
   "cell_type": "code",
   "execution_count": 3,
   "id": "6dd61420",
   "metadata": {},
   "outputs": [],
   "source": [
    "df= pd.read_csv(\"/Users/mananbhatt/Desktop/MANIPAL/ADG/CAR_ADG/car_price.csv\")"
   ]
  },
  {
   "cell_type": "code",
   "execution_count": 4,
   "id": "1793c7ff",
   "metadata": {
    "scrolled": false
   },
   "outputs": [
    {
     "data": {
      "text/html": [
       "<div>\n",
       "<style scoped>\n",
       "    .dataframe tbody tr th:only-of-type {\n",
       "        vertical-align: middle;\n",
       "    }\n",
       "\n",
       "    .dataframe tbody tr th {\n",
       "        vertical-align: top;\n",
       "    }\n",
       "\n",
       "    .dataframe thead th {\n",
       "        text-align: right;\n",
       "    }\n",
       "</style>\n",
       "<table border=\"1\" class=\"dataframe\">\n",
       "  <thead>\n",
       "    <tr style=\"text-align: right;\">\n",
       "      <th></th>\n",
       "      <th>car_ID</th>\n",
       "      <th>symboling</th>\n",
       "      <th>CarName</th>\n",
       "      <th>fueltype</th>\n",
       "      <th>aspiration</th>\n",
       "      <th>doornumber</th>\n",
       "      <th>carbody</th>\n",
       "      <th>drivewheel</th>\n",
       "      <th>enginelocation</th>\n",
       "      <th>wheelbase</th>\n",
       "      <th>...</th>\n",
       "      <th>enginesize</th>\n",
       "      <th>fuelsystem</th>\n",
       "      <th>boreratio</th>\n",
       "      <th>stroke</th>\n",
       "      <th>compressionratio</th>\n",
       "      <th>horsepower</th>\n",
       "      <th>peakrpm</th>\n",
       "      <th>citympg</th>\n",
       "      <th>highwaympg</th>\n",
       "      <th>price</th>\n",
       "    </tr>\n",
       "  </thead>\n",
       "  <tbody>\n",
       "    <tr>\n",
       "      <th>0</th>\n",
       "      <td>1</td>\n",
       "      <td>3</td>\n",
       "      <td>alfa-romero giulia</td>\n",
       "      <td>gas</td>\n",
       "      <td>std</td>\n",
       "      <td>two</td>\n",
       "      <td>convertible</td>\n",
       "      <td>rwd</td>\n",
       "      <td>front</td>\n",
       "      <td>88.6</td>\n",
       "      <td>...</td>\n",
       "      <td>130</td>\n",
       "      <td>mpfi</td>\n",
       "      <td>3.47</td>\n",
       "      <td>2.68</td>\n",
       "      <td>9.0</td>\n",
       "      <td>111</td>\n",
       "      <td>5000</td>\n",
       "      <td>21</td>\n",
       "      <td>27</td>\n",
       "      <td>13495.0</td>\n",
       "    </tr>\n",
       "    <tr>\n",
       "      <th>1</th>\n",
       "      <td>2</td>\n",
       "      <td>3</td>\n",
       "      <td>alfa-romero stelvio</td>\n",
       "      <td>gas</td>\n",
       "      <td>std</td>\n",
       "      <td>two</td>\n",
       "      <td>convertible</td>\n",
       "      <td>rwd</td>\n",
       "      <td>front</td>\n",
       "      <td>88.6</td>\n",
       "      <td>...</td>\n",
       "      <td>130</td>\n",
       "      <td>mpfi</td>\n",
       "      <td>3.47</td>\n",
       "      <td>2.68</td>\n",
       "      <td>9.0</td>\n",
       "      <td>111</td>\n",
       "      <td>5000</td>\n",
       "      <td>21</td>\n",
       "      <td>27</td>\n",
       "      <td>16500.0</td>\n",
       "    </tr>\n",
       "    <tr>\n",
       "      <th>2</th>\n",
       "      <td>3</td>\n",
       "      <td>1</td>\n",
       "      <td>alfa-romero Quadrifoglio</td>\n",
       "      <td>gas</td>\n",
       "      <td>std</td>\n",
       "      <td>two</td>\n",
       "      <td>hatchback</td>\n",
       "      <td>rwd</td>\n",
       "      <td>front</td>\n",
       "      <td>94.5</td>\n",
       "      <td>...</td>\n",
       "      <td>152</td>\n",
       "      <td>mpfi</td>\n",
       "      <td>2.68</td>\n",
       "      <td>3.47</td>\n",
       "      <td>9.0</td>\n",
       "      <td>154</td>\n",
       "      <td>5000</td>\n",
       "      <td>19</td>\n",
       "      <td>26</td>\n",
       "      <td>16500.0</td>\n",
       "    </tr>\n",
       "    <tr>\n",
       "      <th>3</th>\n",
       "      <td>4</td>\n",
       "      <td>2</td>\n",
       "      <td>audi 100 ls</td>\n",
       "      <td>gas</td>\n",
       "      <td>std</td>\n",
       "      <td>four</td>\n",
       "      <td>sedan</td>\n",
       "      <td>fwd</td>\n",
       "      <td>front</td>\n",
       "      <td>99.8</td>\n",
       "      <td>...</td>\n",
       "      <td>109</td>\n",
       "      <td>mpfi</td>\n",
       "      <td>3.19</td>\n",
       "      <td>3.40</td>\n",
       "      <td>10.0</td>\n",
       "      <td>102</td>\n",
       "      <td>5500</td>\n",
       "      <td>24</td>\n",
       "      <td>30</td>\n",
       "      <td>13950.0</td>\n",
       "    </tr>\n",
       "    <tr>\n",
       "      <th>4</th>\n",
       "      <td>5</td>\n",
       "      <td>2</td>\n",
       "      <td>audi 100ls</td>\n",
       "      <td>gas</td>\n",
       "      <td>std</td>\n",
       "      <td>four</td>\n",
       "      <td>sedan</td>\n",
       "      <td>4wd</td>\n",
       "      <td>front</td>\n",
       "      <td>99.4</td>\n",
       "      <td>...</td>\n",
       "      <td>136</td>\n",
       "      <td>mpfi</td>\n",
       "      <td>3.19</td>\n",
       "      <td>3.40</td>\n",
       "      <td>8.0</td>\n",
       "      <td>115</td>\n",
       "      <td>5500</td>\n",
       "      <td>18</td>\n",
       "      <td>22</td>\n",
       "      <td>17450.0</td>\n",
       "    </tr>\n",
       "    <tr>\n",
       "      <th>...</th>\n",
       "      <td>...</td>\n",
       "      <td>...</td>\n",
       "      <td>...</td>\n",
       "      <td>...</td>\n",
       "      <td>...</td>\n",
       "      <td>...</td>\n",
       "      <td>...</td>\n",
       "      <td>...</td>\n",
       "      <td>...</td>\n",
       "      <td>...</td>\n",
       "      <td>...</td>\n",
       "      <td>...</td>\n",
       "      <td>...</td>\n",
       "      <td>...</td>\n",
       "      <td>...</td>\n",
       "      <td>...</td>\n",
       "      <td>...</td>\n",
       "      <td>...</td>\n",
       "      <td>...</td>\n",
       "      <td>...</td>\n",
       "      <td>...</td>\n",
       "    </tr>\n",
       "    <tr>\n",
       "      <th>200</th>\n",
       "      <td>201</td>\n",
       "      <td>-1</td>\n",
       "      <td>volvo 145e (sw)</td>\n",
       "      <td>gas</td>\n",
       "      <td>std</td>\n",
       "      <td>four</td>\n",
       "      <td>sedan</td>\n",
       "      <td>rwd</td>\n",
       "      <td>front</td>\n",
       "      <td>109.1</td>\n",
       "      <td>...</td>\n",
       "      <td>141</td>\n",
       "      <td>mpfi</td>\n",
       "      <td>3.78</td>\n",
       "      <td>3.15</td>\n",
       "      <td>9.5</td>\n",
       "      <td>114</td>\n",
       "      <td>5400</td>\n",
       "      <td>23</td>\n",
       "      <td>28</td>\n",
       "      <td>16845.0</td>\n",
       "    </tr>\n",
       "    <tr>\n",
       "      <th>201</th>\n",
       "      <td>202</td>\n",
       "      <td>-1</td>\n",
       "      <td>volvo 144ea</td>\n",
       "      <td>gas</td>\n",
       "      <td>turbo</td>\n",
       "      <td>four</td>\n",
       "      <td>sedan</td>\n",
       "      <td>rwd</td>\n",
       "      <td>front</td>\n",
       "      <td>109.1</td>\n",
       "      <td>...</td>\n",
       "      <td>141</td>\n",
       "      <td>mpfi</td>\n",
       "      <td>3.78</td>\n",
       "      <td>3.15</td>\n",
       "      <td>8.7</td>\n",
       "      <td>160</td>\n",
       "      <td>5300</td>\n",
       "      <td>19</td>\n",
       "      <td>25</td>\n",
       "      <td>19045.0</td>\n",
       "    </tr>\n",
       "    <tr>\n",
       "      <th>202</th>\n",
       "      <td>203</td>\n",
       "      <td>-1</td>\n",
       "      <td>volvo 244dl</td>\n",
       "      <td>gas</td>\n",
       "      <td>std</td>\n",
       "      <td>four</td>\n",
       "      <td>sedan</td>\n",
       "      <td>rwd</td>\n",
       "      <td>front</td>\n",
       "      <td>109.1</td>\n",
       "      <td>...</td>\n",
       "      <td>173</td>\n",
       "      <td>mpfi</td>\n",
       "      <td>3.58</td>\n",
       "      <td>2.87</td>\n",
       "      <td>8.8</td>\n",
       "      <td>134</td>\n",
       "      <td>5500</td>\n",
       "      <td>18</td>\n",
       "      <td>23</td>\n",
       "      <td>21485.0</td>\n",
       "    </tr>\n",
       "    <tr>\n",
       "      <th>203</th>\n",
       "      <td>204</td>\n",
       "      <td>-1</td>\n",
       "      <td>volvo 246</td>\n",
       "      <td>diesel</td>\n",
       "      <td>turbo</td>\n",
       "      <td>four</td>\n",
       "      <td>sedan</td>\n",
       "      <td>rwd</td>\n",
       "      <td>front</td>\n",
       "      <td>109.1</td>\n",
       "      <td>...</td>\n",
       "      <td>145</td>\n",
       "      <td>idi</td>\n",
       "      <td>3.01</td>\n",
       "      <td>3.40</td>\n",
       "      <td>23.0</td>\n",
       "      <td>106</td>\n",
       "      <td>4800</td>\n",
       "      <td>26</td>\n",
       "      <td>27</td>\n",
       "      <td>22470.0</td>\n",
       "    </tr>\n",
       "    <tr>\n",
       "      <th>204</th>\n",
       "      <td>205</td>\n",
       "      <td>-1</td>\n",
       "      <td>volvo 264gl</td>\n",
       "      <td>gas</td>\n",
       "      <td>turbo</td>\n",
       "      <td>four</td>\n",
       "      <td>sedan</td>\n",
       "      <td>rwd</td>\n",
       "      <td>front</td>\n",
       "      <td>109.1</td>\n",
       "      <td>...</td>\n",
       "      <td>141</td>\n",
       "      <td>mpfi</td>\n",
       "      <td>3.78</td>\n",
       "      <td>3.15</td>\n",
       "      <td>9.5</td>\n",
       "      <td>114</td>\n",
       "      <td>5400</td>\n",
       "      <td>19</td>\n",
       "      <td>25</td>\n",
       "      <td>22625.0</td>\n",
       "    </tr>\n",
       "  </tbody>\n",
       "</table>\n",
       "<p>205 rows × 26 columns</p>\n",
       "</div>"
      ],
      "text/plain": [
       "     car_ID  symboling                   CarName fueltype aspiration  \\\n",
       "0         1          3        alfa-romero giulia      gas        std   \n",
       "1         2          3       alfa-romero stelvio      gas        std   \n",
       "2         3          1  alfa-romero Quadrifoglio      gas        std   \n",
       "3         4          2               audi 100 ls      gas        std   \n",
       "4         5          2                audi 100ls      gas        std   \n",
       "..      ...        ...                       ...      ...        ...   \n",
       "200     201         -1           volvo 145e (sw)      gas        std   \n",
       "201     202         -1               volvo 144ea      gas      turbo   \n",
       "202     203         -1               volvo 244dl      gas        std   \n",
       "203     204         -1                 volvo 246   diesel      turbo   \n",
       "204     205         -1               volvo 264gl      gas      turbo   \n",
       "\n",
       "    doornumber      carbody drivewheel enginelocation  wheelbase  ...  \\\n",
       "0          two  convertible        rwd          front       88.6  ...   \n",
       "1          two  convertible        rwd          front       88.6  ...   \n",
       "2          two    hatchback        rwd          front       94.5  ...   \n",
       "3         four        sedan        fwd          front       99.8  ...   \n",
       "4         four        sedan        4wd          front       99.4  ...   \n",
       "..         ...          ...        ...            ...        ...  ...   \n",
       "200       four        sedan        rwd          front      109.1  ...   \n",
       "201       four        sedan        rwd          front      109.1  ...   \n",
       "202       four        sedan        rwd          front      109.1  ...   \n",
       "203       four        sedan        rwd          front      109.1  ...   \n",
       "204       four        sedan        rwd          front      109.1  ...   \n",
       "\n",
       "     enginesize  fuelsystem  boreratio  stroke compressionratio horsepower  \\\n",
       "0           130        mpfi       3.47    2.68              9.0        111   \n",
       "1           130        mpfi       3.47    2.68              9.0        111   \n",
       "2           152        mpfi       2.68    3.47              9.0        154   \n",
       "3           109        mpfi       3.19    3.40             10.0        102   \n",
       "4           136        mpfi       3.19    3.40              8.0        115   \n",
       "..          ...         ...        ...     ...              ...        ...   \n",
       "200         141        mpfi       3.78    3.15              9.5        114   \n",
       "201         141        mpfi       3.78    3.15              8.7        160   \n",
       "202         173        mpfi       3.58    2.87              8.8        134   \n",
       "203         145         idi       3.01    3.40             23.0        106   \n",
       "204         141        mpfi       3.78    3.15              9.5        114   \n",
       "\n",
       "     peakrpm citympg  highwaympg    price  \n",
       "0       5000      21          27  13495.0  \n",
       "1       5000      21          27  16500.0  \n",
       "2       5000      19          26  16500.0  \n",
       "3       5500      24          30  13950.0  \n",
       "4       5500      18          22  17450.0  \n",
       "..       ...     ...         ...      ...  \n",
       "200     5400      23          28  16845.0  \n",
       "201     5300      19          25  19045.0  \n",
       "202     5500      18          23  21485.0  \n",
       "203     4800      26          27  22470.0  \n",
       "204     5400      19          25  22625.0  \n",
       "\n",
       "[205 rows x 26 columns]"
      ]
     },
     "execution_count": 4,
     "metadata": {},
     "output_type": "execute_result"
    }
   ],
   "source": [
    "df"
   ]
  },
  {
   "cell_type": "code",
   "execution_count": 5,
   "id": "c48af725",
   "metadata": {},
   "outputs": [
    {
     "data": {
      "text/plain": [
       "front    202\n",
       "rear       3\n",
       "Name: enginelocation, dtype: int64"
      ]
     },
     "execution_count": 5,
     "metadata": {},
     "output_type": "execute_result"
    }
   ],
   "source": [
    "drive_location=df['enginelocation'].value_counts()\n",
    "drive_location\n",
    "\n",
    "\n",
    "\n",
    "\n",
    "#to_frame() function create a dataFrame from the given index with a column containing the Index. By default, the original Index is reused in the new dataframe. To reinforce a new index for the newly created dataframe, we set the index parameter of the function to be false."
   ]
  },
  {
   "cell_type": "code",
   "execution_count": 6,
   "id": "8cf7d362",
   "metadata": {},
   "outputs": [
    {
     "data": {
      "text/html": [
       "<div>\n",
       "<style scoped>\n",
       "    .dataframe tbody tr th:only-of-type {\n",
       "        vertical-align: middle;\n",
       "    }\n",
       "\n",
       "    .dataframe tbody tr th {\n",
       "        vertical-align: top;\n",
       "    }\n",
       "\n",
       "    .dataframe thead th {\n",
       "        text-align: right;\n",
       "    }\n",
       "</style>\n",
       "<table border=\"1\" class=\"dataframe\">\n",
       "  <thead>\n",
       "    <tr style=\"text-align: right;\">\n",
       "      <th></th>\n",
       "      <th>Engine Location</th>\n",
       "    </tr>\n",
       "  </thead>\n",
       "  <tbody>\n",
       "    <tr>\n",
       "      <th>front</th>\n",
       "      <td>202</td>\n",
       "    </tr>\n",
       "    <tr>\n",
       "      <th>rear</th>\n",
       "      <td>3</td>\n",
       "    </tr>\n",
       "  </tbody>\n",
       "</table>\n",
       "</div>"
      ],
      "text/plain": [
       "       Engine Location\n",
       "front              202\n",
       "rear                 3"
      ]
     },
     "execution_count": 6,
     "metadata": {},
     "output_type": "execute_result"
    }
   ],
   "source": [
    "drive_location=df['enginelocation'].value_counts().to_frame()\n",
    "drive_location.rename(columns={'enginelocation':'Engine Location'}, inplace=True)\n",
    "drive_location"
   ]
  },
  {
   "cell_type": "code",
   "execution_count": 7,
   "id": "84023725",
   "metadata": {},
   "outputs": [
    {
     "data": {
      "text/html": [
       "<div>\n",
       "<style scoped>\n",
       "    .dataframe tbody tr th:only-of-type {\n",
       "        vertical-align: middle;\n",
       "    }\n",
       "\n",
       "    .dataframe tbody tr th {\n",
       "        vertical-align: top;\n",
       "    }\n",
       "\n",
       "    .dataframe thead th {\n",
       "        text-align: right;\n",
       "    }\n",
       "</style>\n",
       "<table border=\"1\" class=\"dataframe\">\n",
       "  <thead>\n",
       "    <tr style=\"text-align: right;\">\n",
       "      <th></th>\n",
       "      <th>carbody</th>\n",
       "    </tr>\n",
       "  </thead>\n",
       "  <tbody>\n",
       "    <tr>\n",
       "      <th>sedan</th>\n",
       "      <td>96</td>\n",
       "    </tr>\n",
       "    <tr>\n",
       "      <th>hatchback</th>\n",
       "      <td>70</td>\n",
       "    </tr>\n",
       "    <tr>\n",
       "      <th>wagon</th>\n",
       "      <td>25</td>\n",
       "    </tr>\n",
       "    <tr>\n",
       "      <th>hardtop</th>\n",
       "      <td>8</td>\n",
       "    </tr>\n",
       "    <tr>\n",
       "      <th>convertible</th>\n",
       "      <td>6</td>\n",
       "    </tr>\n",
       "  </tbody>\n",
       "</table>\n",
       "</div>"
      ],
      "text/plain": [
       "             carbody\n",
       "sedan             96\n",
       "hatchback         70\n",
       "wagon             25\n",
       "hardtop            8\n",
       "convertible        6"
      ]
     },
     "execution_count": 7,
     "metadata": {},
     "output_type": "execute_result"
    }
   ],
   "source": [
    "drive_carbody= df['carbody'].value_counts().to_frame()\n",
    "drive_carbody"
   ]
  },
  {
   "cell_type": "code",
   "execution_count": 8,
   "id": "b2748b48",
   "metadata": {},
   "outputs": [
    {
     "data": {
      "text/plain": [
       "Text(0.5, 1.0, 'CAR BODY-PRICE')"
      ]
     },
     "execution_count": 8,
     "metadata": {},
     "output_type": "execute_result"
    },
    {
     "data": {
      "image/png": "[encoded data removed]",
      "text/plain": [
       "<Figure size 432x288 with 1 Axes>"
      ]
     },
     "metadata": {
      "needs_background": "light"
     },
     "output_type": "display_data"
    }
   ],
   "source": [
    "sns.boxplot(x= \"carbody\", y= \"price\", data=df).set_title('CAR BODY-PRICE')\n",
    "\n",
    "#In statistics, an outlier is a data point that differs significantly from other observations. An outlier may be due to variability in the measurement or it may indicate experimental error; the latter are sometimes excluded from the data set. An outlier can cause serious problems in statistical analyses."
   ]
  },
  {
   "cell_type": "code",
   "execution_count": 9,
   "id": "bed0aacf",
   "metadata": {},
   "outputs": [
    {
     "data": {
      "text/plain": [
       "Text(0.5, 1.0, 'Scatter Plot For ENGINE SIZE-PRICE')"
      ]
     },
     "execution_count": 9,
     "metadata": {},
     "output_type": "execute_result"
    },
    {
     "data": {
      "image/png": "[encoded data removed]",
      "text/plain": [
       "<Figure size 432x288 with 1 Axes>"
      ]
     },
     "metadata": {
      "needs_background": "light"
     },
     "output_type": "display_data"
    }
   ],
   "source": [
    "plt.scatter(x=\"enginesize\", y=\"price\", data=df)\n",
    "plt.title(\"Scatter Plot For ENGINE SIZE-PRICE\")"
   ]
  },
  {
   "cell_type": "code",
   "execution_count": 10,
   "id": "ef55e19c",
   "metadata": {},
   "outputs": [
    {
     "data": {
      "text/html": [
       "<div>\n",
       "<style scoped>\n",
       "    .dataframe tbody tr th:only-of-type {\n",
       "        vertical-align: middle;\n",
       "    }\n",
       "\n",
       "    .dataframe tbody tr th {\n",
       "        vertical-align: top;\n",
       "    }\n",
       "\n",
       "    .dataframe thead th {\n",
       "        text-align: right;\n",
       "    }\n",
       "</style>\n",
       "<table border=\"1\" class=\"dataframe\">\n",
       "  <thead>\n",
       "    <tr style=\"text-align: right;\">\n",
       "      <th></th>\n",
       "      <th>carbody</th>\n",
       "      <th>aspiration</th>\n",
       "      <th>price</th>\n",
       "    </tr>\n",
       "  </thead>\n",
       "  <tbody>\n",
       "    <tr>\n",
       "      <th>3</th>\n",
       "      <td>hatchback</td>\n",
       "      <td>std</td>\n",
       "      <td>9699.605263</td>\n",
       "    </tr>\n",
       "    <tr>\n",
       "      <th>7</th>\n",
       "      <td>wagon</td>\n",
       "      <td>std</td>\n",
       "      <td>10973.600000</td>\n",
       "    </tr>\n",
       "    <tr>\n",
       "      <th>4</th>\n",
       "      <td>hatchback</td>\n",
       "      <td>turbo</td>\n",
       "      <td>13345.243615</td>\n",
       "    </tr>\n",
       "    <tr>\n",
       "      <th>5</th>\n",
       "      <td>sedan</td>\n",
       "      <td>std</td>\n",
       "      <td>13660.371795</td>\n",
       "    </tr>\n",
       "    <tr>\n",
       "      <th>6</th>\n",
       "      <td>sedan</td>\n",
       "      <td>turbo</td>\n",
       "      <td>17307.833333</td>\n",
       "    </tr>\n",
       "    <tr>\n",
       "      <th>8</th>\n",
       "      <td>wagon</td>\n",
       "      <td>turbo</td>\n",
       "      <td>17965.400000</td>\n",
       "    </tr>\n",
       "    <tr>\n",
       "      <th>1</th>\n",
       "      <td>hardtop</td>\n",
       "      <td>std</td>\n",
       "      <td>21356.000000</td>\n",
       "    </tr>\n",
       "    <tr>\n",
       "      <th>0</th>\n",
       "      <td>convertible</td>\n",
       "      <td>std</td>\n",
       "      <td>21890.500000</td>\n",
       "    </tr>\n",
       "    <tr>\n",
       "      <th>2</th>\n",
       "      <td>hardtop</td>\n",
       "      <td>turbo</td>\n",
       "      <td>28176.000000</td>\n",
       "    </tr>\n",
       "  </tbody>\n",
       "</table>\n",
       "</div>"
      ],
      "text/plain": [
       "       carbody aspiration         price\n",
       "3    hatchback        std   9699.605263\n",
       "7        wagon        std  10973.600000\n",
       "4    hatchback      turbo  13345.243615\n",
       "5        sedan        std  13660.371795\n",
       "6        sedan      turbo  17307.833333\n",
       "8        wagon      turbo  17965.400000\n",
       "1      hardtop        std  21356.000000\n",
       "0  convertible        std  21890.500000\n",
       "2      hardtop      turbo  28176.000000"
      ]
     },
     "execution_count": 10,
     "metadata": {},
     "output_type": "execute_result"
    }
   ],
   "source": [
    "df_test= df[['carbody','aspiration','price']]\n",
    "df_group= df_test.groupby(['carbody','aspiration'], as_index= False).mean()\n",
    "df_group.sort_values(by='price',ascending= True,inplace= True)\n",
    "df_group"
   ]
  },
  {
   "cell_type": "code",
   "execution_count": 11,
   "id": "2362d867",
   "metadata": {},
   "outputs": [
    {
     "data": {
      "text/html": [
       "<div>\n",
       "<style scoped>\n",
       "    .dataframe tbody tr th:only-of-type {\n",
       "        vertical-align: middle;\n",
       "    }\n",
       "\n",
       "    .dataframe tbody tr th {\n",
       "        vertical-align: top;\n",
       "    }\n",
       "\n",
       "    .dataframe thead tr th {\n",
       "        text-align: left;\n",
       "    }\n",
       "\n",
       "    .dataframe thead tr:last-of-type th {\n",
       "        text-align: right;\n",
       "    }\n",
       "</style>\n",
       "<table border=\"1\" class=\"dataframe\">\n",
       "  <thead>\n",
       "    <tr>\n",
       "      <th></th>\n",
       "      <th colspan=\"2\" halign=\"left\">price</th>\n",
       "    </tr>\n",
       "    <tr>\n",
       "      <th>aspiration</th>\n",
       "      <th>std</th>\n",
       "      <th>turbo</th>\n",
       "    </tr>\n",
       "    <tr>\n",
       "      <th>carbody</th>\n",
       "      <th></th>\n",
       "      <th></th>\n",
       "    </tr>\n",
       "  </thead>\n",
       "  <tbody>\n",
       "    <tr>\n",
       "      <th>convertible</th>\n",
       "      <td>21890.500000</td>\n",
       "      <td>NaN</td>\n",
       "    </tr>\n",
       "    <tr>\n",
       "      <th>hardtop</th>\n",
       "      <td>21356.000000</td>\n",
       "      <td>28176.000000</td>\n",
       "    </tr>\n",
       "    <tr>\n",
       "      <th>hatchback</th>\n",
       "      <td>9699.605263</td>\n",
       "      <td>13345.243615</td>\n",
       "    </tr>\n",
       "    <tr>\n",
       "      <th>sedan</th>\n",
       "      <td>13660.371795</td>\n",
       "      <td>17307.833333</td>\n",
       "    </tr>\n",
       "    <tr>\n",
       "      <th>wagon</th>\n",
       "      <td>10973.600000</td>\n",
       "      <td>17965.400000</td>\n",
       "    </tr>\n",
       "  </tbody>\n",
       "</table>\n",
       "</div>"
      ],
      "text/plain": [
       "                    price              \n",
       "aspiration            std         turbo\n",
       "carbody                                \n",
       "convertible  21890.500000           NaN\n",
       "hardtop      21356.000000  28176.000000\n",
       "hatchback     9699.605263  13345.243615\n",
       "sedan        13660.371795  17307.833333\n",
       "wagon        10973.600000  17965.400000"
      ]
     },
     "execution_count": 11,
     "metadata": {},
     "output_type": "execute_result"
    }
   ],
   "source": [
    "df_pivot= df_group.pivot(index='carbody', columns='aspiration')\n",
    "df_pivot"
   ]
  },
  {
   "cell_type": "code",
   "execution_count": 12,
   "id": "98d6f6e2",
   "metadata": {},
   "outputs": [
    {
     "data": {
      "image/png": "[encoded data removed]",
      "text/plain": [
       "<Figure size 432x288 with 2 Axes>"
      ]
     },
     "metadata": {
      "needs_background": "light"
     },
     "output_type": "display_data"
    }
   ],
   "source": [
    "plt.pcolor(df_pivot, cmap='RdBu')\n",
    "plt.colorbar()\n",
    "plt.show()"
   ]
  },
  {
   "cell_type": "code",
   "execution_count": 13,
   "id": "d1257e59",
   "metadata": {},
   "outputs": [
    {
     "name": "stderr",
     "output_type": "stream",
     "text": [
      "/Library/Frameworks/Python.framework/Versions/3.9/lib/python3.9/site-packages/seaborn/_decorators.py:36: FutureWarning: Pass the following variables as keyword args: x, y. From version 0.12, the only valid positional argument will be `data`, and passing other arguments without an explicit keyword will result in an error or misinterpretation.\n",
      "  warnings.warn(\n"
     ]
    },
    {
     "data": {
      "text/plain": [
       "(0.0, 53424.869851558346)"
      ]
     },
     "execution_count": 13,
     "metadata": {},
     "output_type": "execute_result"
    },
    {
     "data": {
      "image/png": "[encoded data removed]",
      "text/plain": [
       "<Figure size 432x288 with 1 Axes>"
      ]
     },
     "metadata": {
      "needs_background": "light"
     },
     "output_type": "display_data"
    }
   ],
   "source": [
    "sns.regplot('enginesize', 'price', data=df)\n",
    "plt.ylim(0,)"
   ]
  },
  {
   "cell_type": "code",
   "execution_count": 14,
   "id": "7669da46",
   "metadata": {},
   "outputs": [
    {
     "name": "stderr",
     "output_type": "stream",
     "text": [
      "/Library/Frameworks/Python.framework/Versions/3.9/lib/python3.9/site-packages/seaborn/_decorators.py:36: FutureWarning: Pass the following variables as keyword args: x, y. From version 0.12, the only valid positional argument will be `data`, and passing other arguments without an explicit keyword will result in an error or misinterpretation.\n",
      "  warnings.warn(\n"
     ]
    },
    {
     "data": {
      "text/plain": [
       "(0.0, 48222.30607454797)"
      ]
     },
     "execution_count": 14,
     "metadata": {},
     "output_type": "execute_result"
    },
    {
     "data": {
      "image/png": "[encoded data removed]",
      "text/plain": [
       "<Figure size 432x288 with 1 Axes>"
      ]
     },
     "metadata": {
      "needs_background": "light"
     },
     "output_type": "display_data"
    }
   ],
   "source": [
    "sns.regplot('citympg', 'price', data=df)\n",
    "plt.ylim(0,)\n",
    "#steapper the slope more reliable is the correlation between the values."
   ]
  },
  {
   "cell_type": "code",
   "execution_count": 15,
   "id": "2bd164d6",
   "metadata": {},
   "outputs": [
    {
     "name": "stderr",
     "output_type": "stream",
     "text": [
      "/Library/Frameworks/Python.framework/Versions/3.9/lib/python3.9/site-packages/seaborn/_decorators.py:36: FutureWarning: Pass the following variables as keyword args: x, y. From version 0.12, the only valid positional argument will be `data`, and passing other arguments without an explicit keyword will result in an error or misinterpretation.\n",
      "  warnings.warn(\n"
     ]
    },
    {
     "data": {
      "text/plain": [
       "(0.0, 48225.416528445385)"
      ]
     },
     "execution_count": 15,
     "metadata": {},
     "output_type": "execute_result"
    },
    {
     "data": {
      "image/png": "[encoded data removed]",
      "text/plain": [
       "<Figure size 360x360 with 1 Axes>"
      ]
     },
     "metadata": {
      "needs_background": "light"
     },
     "output_type": "display_data"
    }
   ],
   "source": [
    "sns.lmplot('citympg', 'price', data=df)\n",
    "plt.ylim(0,)"
   ]
  },
  {
   "cell_type": "code",
   "execution_count": 16,
   "id": "bf618310",
   "metadata": {},
   "outputs": [],
   "source": [
    "#Peasrson Correlation:-\n",
    "# 1, -1 , 0 refers to correlation coefficient of correlation between parameter \n",
    "#with having +ve relation, -ve relation and no relation respectively\n",
    "#P-value:- \n",
    "# <0.001- Strong\n",
    "# <0.05- Moderate\n",
    "# <0.1- Weak \n",
    "# >0.1- No Certainity\n",
    "\n",
    "pearson_coef, p_value= stats.pearsonr(df['horsepower'], df['price'])\n"
   ]
  },
  {
   "cell_type": "code",
   "execution_count": 17,
   "id": "084f61a2",
   "metadata": {},
   "outputs": [
    {
     "data": {
      "text/plain": [
       "0.8081388225362217"
      ]
     },
     "execution_count": 17,
     "metadata": {},
     "output_type": "execute_result"
    }
   ],
   "source": [
    "pearson_coef"
   ]
  },
  {
   "cell_type": "code",
   "execution_count": 18,
   "id": "0b50bea5",
   "metadata": {},
   "outputs": [
    {
     "data": {
      "text/plain": [
       "1.4834365732940913e-48"
      ]
     },
     "execution_count": 18,
     "metadata": {},
     "output_type": "execute_result"
    }
   ],
   "source": [
    "p_value"
   ]
  },
  {
   "cell_type": "code",
   "execution_count": 19,
   "id": "05aa88ba",
   "metadata": {},
   "outputs": [
    {
     "data": {
      "text/plain": [
       "LinearRegression()"
      ]
     },
     "execution_count": 19,
     "metadata": {},
     "output_type": "execute_result"
    }
   ],
   "source": [
    "lm=LinearRegression()\n",
    "X= df[['highwaympg']]\n",
    "Y= df[['price']]\n",
    "lm.fit(X,Y)"
   ]
  },
  {
   "cell_type": "code",
   "execution_count": 20,
   "id": "fe2640f6",
   "metadata": {},
   "outputs": [],
   "source": [
    "Predict= lm.predict(X)"
   ]
  },
  {
   "cell_type": "code",
   "execution_count": 21,
   "id": "30eb8ae4",
   "metadata": {},
   "outputs": [
    {
     "data": {
      "text/plain": [
       "array([[16312.47322074],\n",
       "       [16312.47322074],\n",
       "       [17121.74674903],\n",
       "       [13884.65263588],\n",
       "       [20358.84086218],\n",
       "       [17931.02027732],\n",
       "       [17931.02027732],\n",
       "       [17931.02027732],\n",
       "       [21977.38791875],\n",
       "       [20358.84086218],\n",
       "       [14693.92616417],\n",
       "       [14693.92616417],\n",
       "       [15503.19969246],\n",
       "       [15503.19969246],\n",
       "       [17931.02027732],\n",
       "       [20358.84086218],\n",
       "       [20358.84086218],\n",
       "       [21977.38791875],\n",
       "       [-4728.63851471],\n",
       "       [ 3364.09676816],\n",
       "       [ 3364.09676816],\n",
       "       [ 4982.64382473],\n",
       "       [ 7410.46440959],\n",
       "       [13884.65263588],\n",
       "       [ 7410.46440959],\n",
       "       [ 7410.46440959],\n",
       "       [ 7410.46440959],\n",
       "       [13884.65263588],\n",
       "       [13884.65263588],\n",
       "       [18740.2938056 ],\n",
       "       [-5537.912043  ],\n",
       "       [ 7410.46440959],\n",
       "       [ 4173.37029644],\n",
       "       [10647.55852274],\n",
       "       [10647.55852274],\n",
       "       [10647.55852274],\n",
       "       [10647.55852274],\n",
       "       [11456.83205102],\n",
       "       [11456.83205102],\n",
       "       [11456.83205102],\n",
       "       [11456.83205102],\n",
       "       [15503.19969246],\n",
       "       [13075.3791076 ],\n",
       "       [14693.92616417],\n",
       "       [ 3364.09676816],\n",
       "       [ 3364.09676816],\n",
       "       [14693.92616417],\n",
       "       [22786.66144704],\n",
       "       [22786.66144704],\n",
       "       [24405.20850361],\n",
       "       [13075.3791076 ],\n",
       "       [ 7410.46440959],\n",
       "       [ 7410.46440959],\n",
       "       [ 7410.46440959],\n",
       "       [ 7410.46440959],\n",
       "       [19549.56733389],\n",
       "       [19549.56733389],\n",
       "       [19549.56733389],\n",
       "       [19549.56733389],\n",
       "       [12266.10557931],\n",
       "       [12266.10557931],\n",
       "       [12266.10557931],\n",
       "       [12266.10557931],\n",
       "       [ 4173.37029644],\n",
       "       [12266.10557931],\n",
       "       [16312.47322074],\n",
       "       [ 6601.1908813 ],\n",
       "       [17931.02027732],\n",
       "       [17931.02027732],\n",
       "       [17931.02027732],\n",
       "       [17931.02027732],\n",
       "       [23595.93497532],\n",
       "       [23595.93497532],\n",
       "       [25214.4820319 ],\n",
       "       [25214.4820319 ],\n",
       "       [18740.2938056 ],\n",
       "       [ 4982.64382473],\n",
       "       [ 7410.46440959],\n",
       "       [ 7410.46440959],\n",
       "       [13884.65263588],\n",
       "       [13884.65263588],\n",
       "       [12266.10557931],\n",
       "       [18740.2938056 ],\n",
       "       [18740.2938056 ],\n",
       "       [18740.2938056 ],\n",
       "       [12266.10557931],\n",
       "       [12266.10557931],\n",
       "       [13884.65263588],\n",
       "       [13884.65263588],\n",
       "       [ 8219.73793788],\n",
       "       [-2300.81792985],\n",
       "       [ 8219.73793788],\n",
       "       [ 8219.73793788],\n",
       "       [ 8219.73793788],\n",
       "       [ 8219.73793788],\n",
       "       [ 8219.73793788],\n",
       "       [ 8219.73793788],\n",
       "       [ 8219.73793788],\n",
       "       [ 8219.73793788],\n",
       "       [10647.55852274],\n",
       "       [10647.55852274],\n",
       "       [20358.84086218],\n",
       "       [20358.84086218],\n",
       "       [17931.02027732],\n",
       "       [17931.02027732],\n",
       "       [19549.56733389],\n",
       "       [17931.02027732],\n",
       "       [18740.2938056 ],\n",
       "       [11456.83205102],\n",
       "       [18740.2938056 ],\n",
       "       [17931.02027732],\n",
       "       [18740.2938056 ],\n",
       "       [11456.83205102],\n",
       "       [18740.2938056 ],\n",
       "       [17931.02027732],\n",
       "       [18740.2938056 ],\n",
       "       [11456.83205102],\n",
       "       [18740.2938056 ],\n",
       "       [ 4982.64382473],\n",
       "       [13884.65263588],\n",
       "       [ 7410.46440959],\n",
       "       [ 7410.46440959],\n",
       "       [ 7410.46440959],\n",
       "       [13884.65263588],\n",
       "       [18740.2938056 ],\n",
       "       [16312.47322074],\n",
       "       [17931.02027732],\n",
       "       [17931.02027732],\n",
       "       [17931.02027732],\n",
       "       [15503.19969246],\n",
       "       [13075.3791076 ],\n",
       "       [13075.3791076 ],\n",
       "       [15503.19969246],\n",
       "       [15503.19969246],\n",
       "       [15503.19969246],\n",
       "       [15503.19969246],\n",
       "       [17121.74674903],\n",
       "       [17121.74674903],\n",
       "       [ 9029.01146616],\n",
       "       [13075.3791076 ],\n",
       "       [13075.3791076 ],\n",
       "       [ 8219.73793788],\n",
       "       [11456.83205102],\n",
       "       [12266.10557931],\n",
       "       [17931.02027732],\n",
       "       [14693.92616417],\n",
       "       [12266.10557931],\n",
       "       [13075.3791076 ],\n",
       "       [14693.92616417],\n",
       "       [19549.56733389],\n",
       "       [ 6601.1908813 ],\n",
       "       [ 7410.46440959],\n",
       "       [ 7410.46440959],\n",
       "       [ 8219.73793788],\n",
       "       [12266.10557931],\n",
       "       [12266.10557931],\n",
       "       [ 8219.73793788],\n",
       "       [ 8219.73793788],\n",
       "       [ 9029.01146616],\n",
       "       [  127.00265501],\n",
       "       [  127.00265501],\n",
       "       [10647.55852274],\n",
       "       [10647.55852274],\n",
       "       [10647.55852274],\n",
       "       [10647.55852274],\n",
       "       [14693.92616417],\n",
       "       [14693.92616417],\n",
       "       [13884.65263588],\n",
       "       [13884.65263588],\n",
       "       [13884.65263588],\n",
       "       [13884.65263588],\n",
       "       [13884.65263588],\n",
       "       [13884.65263588],\n",
       "       [10647.55852274],\n",
       "       [11456.83205102],\n",
       "       [12266.10557931],\n",
       "       [12266.10557931],\n",
       "       [12266.10557931],\n",
       "       [18740.2938056 ],\n",
       "       [18740.2938056 ],\n",
       "       [18740.2938056 ],\n",
       "       [18740.2938056 ],\n",
       "       [  936.2761833 ],\n",
       "       [10647.55852274],\n",
       "       [  936.2761833 ],\n",
       "       [10647.55852274],\n",
       "       [10647.55852274],\n",
       "       [ 4173.37029644],\n",
       "       [12266.10557931],\n",
       "       [14693.92616417],\n",
       "       [14693.92616417],\n",
       "       [18740.2938056 ],\n",
       "       [ 7410.46440959],\n",
       "       [13075.3791076 ],\n",
       "       [15503.19969246],\n",
       "       [15503.19969246],\n",
       "       [15503.19969246],\n",
       "       [15503.19969246],\n",
       "       [20358.84086218],\n",
       "       [20358.84086218],\n",
       "       [15503.19969246],\n",
       "       [17931.02027732],\n",
       "       [19549.56733389],\n",
       "       [16312.47322074],\n",
       "       [17931.02027732]])"
      ]
     },
     "execution_count": 21,
     "metadata": {},
     "output_type": "execute_result"
    }
   ],
   "source": [
    "Predict"
   ]
  },
  {
   "cell_type": "code",
   "execution_count": 22,
   "id": "306b2589",
   "metadata": {},
   "outputs": [],
   "source": [
    "inter= lm.intercept_\n",
    "coef= lm.coef_"
   ]
  },
  {
   "cell_type": "code",
   "execution_count": 23,
   "id": "6ad31f2e",
   "metadata": {},
   "outputs": [
    {
     "data": {
      "text/plain": [
       "array([38162.85848448])"
      ]
     },
     "execution_count": 23,
     "metadata": {},
     "output_type": "execute_result"
    }
   ],
   "source": [
    "inter"
   ]
  },
  {
   "cell_type": "code",
   "execution_count": 24,
   "id": "1e07248c",
   "metadata": {},
   "outputs": [
    {
     "data": {
      "text/plain": [
       "array([[-809.27352829]])"
      ]
     },
     "execution_count": 24,
     "metadata": {},
     "output_type": "execute_result"
    }
   ],
   "source": [
    "coef"
   ]
  },
  {
   "cell_type": "code",
   "execution_count": 25,
   "id": "8955a1ab",
   "metadata": {},
   "outputs": [],
   "source": [
    "z= df[['horsepower','curbweight','enginesize','highwaympg']]\n",
    "#multiple linear regression, where following parameters are used as predictors to predict price.\n",
    "# y= b0+ b1x1 + b2x2 + b3x3 + b4x4   "
   ]
  },
  {
   "cell_type": "code",
   "execution_count": 26,
   "id": "a13d08b6",
   "metadata": {},
   "outputs": [
    {
     "data": {
      "text/plain": [
       "LinearRegression()"
      ]
     },
     "execution_count": 26,
     "metadata": {},
     "output_type": "execute_result"
    }
   ],
   "source": [
    "lm.fit(z, df.price)"
   ]
  },
  {
   "cell_type": "code",
   "execution_count": 27,
   "id": "06a35a40",
   "metadata": {},
   "outputs": [],
   "source": [
    "pred= lm.predict(z)"
   ]
  },
  {
   "cell_type": "code",
   "execution_count": 28,
   "id": "013a7a1c",
   "metadata": {},
   "outputs": [
    {
     "data": {
      "text/plain": [
       "array([13705.65874827, 13705.65874827, 19012.54779171, 10642.39806986,\n",
       "       15485.97998725, 13878.04669385, 15438.4915069 , 15947.83551115,\n",
       "       17515.45953502, 18493.00642633, 10735.11919185, 10735.11919185,\n",
       "       17832.21534741, 18086.88734954, 19307.56818189, 26915.76024991,\n",
       "       27610.32025572, 28107.69680797,   846.62315969,  5778.49625251,\n",
       "        5940.56025386,  5601.440936  ,  5479.30575713,  8765.12022023,\n",
       "        5900.67216066,  6002.54096151,  6002.54096151,  9056.83542267,\n",
       "       11899.86091497, 18734.27863849,  5016.84289539,  5800.31165484,\n",
       "        4132.47216325,  6197.74315437,  6271.82955498,  6521.87115707,\n",
       "        6586.69675762,  9540.40555478,  9785.81675683,  9855.27275741,\n",
       "       10170.13996004, 11183.90351219, 10457.1635524 ,  9508.34241948,\n",
       "        5778.49625251,  5940.56025386, 12637.43939451, 34401.47858734,\n",
       "       34401.47858734, 43915.82677543,  5341.8332956 ,  5673.11938002,\n",
       "        5696.27138021,  5881.48738176,  5904.63938196,  7279.39999913,\n",
       "        7279.39999913,  7302.55199932, 10445.06351135, 11076.93903375,\n",
       "       11192.69903472, 11076.93903375, 11192.69903472, 10703.6928589 ,\n",
       "       11262.1550353 , 15569.42476058, 13183.34940947, 23113.4412809 ,\n",
       "       24201.58528999, 23020.83328012, 24294.19329077, 29765.46694944,\n",
       "       29510.79494731, 38064.46875595, 36877.10866096, 19443.133851  ,\n",
       "        5961.28578155,  5959.54100368,  6237.365006  ,  8843.83702089,\n",
       "       11612.1339411 , 11022.79155954, 18836.14743935, 19243.62264275,\n",
       "       19266.77464295, 11194.11636098, 11379.33236252, 11764.93714237,\n",
       "       11764.93714237,  6130.02371705,  7013.82284753,  6264.30531817,\n",
       "        6356.91331895,  6755.12772228,  6417.10851945,  6773.64932243,\n",
       "        6509.71652023,  6815.32292278,  6681.04132166, 11392.34235606,\n",
       "       11290.4735552 , 22402.11366986, 23332.82407764, 22362.18484737,\n",
       "       22832.6899038 , 25163.98693386, 23147.55710643, 14207.98352009,\n",
       "       17934.96590221, 15180.36752822, 18688.1553009 , 14357.76285822,\n",
       "       18189.63790434, 15330.14686634, 18942.82730303, 14462.65552222,\n",
       "       18189.63790434, 18234.98877176,  5795.91773763,  8765.12022023,\n",
       "        5900.67216066,  6002.54096151,  7599.35394499, 11899.86091497,\n",
       "       18766.69143877, 18185.2978423 , 24913.98378107, 24913.98378107,\n",
       "       25117.72138277, 32852.97207318, 13076.04312655, 12525.02552194,\n",
       "       13459.1119492 , 13630.43675063, 13686.0015511 , 13922.15195307,\n",
       "       16694.56510243, 16875.15070394,  6834.80639699,  8074.68533779,\n",
       "        8630.33334243,  8906.7326845 ,  8952.25378108, 10235.4580446 ,\n",
       "        9529.4879783 , 11792.07851631,  9374.58205866, 10727.24232276,\n",
       "        9854.39888482, 12196.06416398,  5875.42113956,  6089.3814154 ,\n",
       "        5973.62141443,  7159.96569839,  7002.71106733, 10799.63909907,\n",
       "        7154.19087844,  7283.84207953,  8269.73637515,  8717.56536435,\n",
       "        7621.50334185,  7221.90210116,  7305.24930185,  7439.53090298,\n",
       "        7601.59490433,  9883.23661924, 10045.3006206 , 15375.92673817,\n",
       "       15357.40513801, 15426.86113859, 16019.55234355, 16181.6163449 ,\n",
       "       17390.150755  , 11304.73954005,  9988.42084822, 11630.79129087,\n",
       "       11630.79129087, 11834.52889258, 21577.69628625, 21762.9122878 ,\n",
       "       22033.17663225, 21298.94441345,  7327.35042406,  9320.96612606,\n",
       "        7341.24162418,  9334.85732618,  9626.57252862,  8272.20803315,\n",
       "       10447.60405701,  9588.00715635,  9435.20395508, 14550.41657352,\n",
       "        9313.26513805, 10995.33155689, 16498.69932619, 17063.60813091,\n",
       "       16605.19852708, 17100.65133122, 18478.17186806, 18996.7766724 ,\n",
       "       16683.91532774, 19423.46022463, 20452.99604127, 17781.42504354,\n",
       "       17071.12415313])"
      ]
     },
     "execution_count": 28,
     "metadata": {},
     "output_type": "execute_result"
    }
   ],
   "source": [
    "pred"
   ]
  },
  {
   "cell_type": "code",
   "execution_count": 29,
   "id": "1bb59b13",
   "metadata": {},
   "outputs": [
    {
     "name": "stderr",
     "output_type": "stream",
     "text": [
      "/Library/Frameworks/Python.framework/Versions/3.9/lib/python3.9/site-packages/seaborn/_decorators.py:36: FutureWarning: Pass the following variables as keyword args: x, y. From version 0.12, the only valid positional argument will be `data`, and passing other arguments without an explicit keyword will result in an error or misinterpretation.\n",
      "  warnings.warn(\n"
     ]
    },
    {
     "data": {
      "text/plain": [
       "<AxesSubplot:xlabel='highwaympg', ylabel='price'>"
      ]
     },
     "execution_count": 29,
     "metadata": {},
     "output_type": "execute_result"
    },
    {
     "data": {
      "image/png": "[encoded data removed]",
      "text/plain": [
       "<Figure size 432x288 with 1 Axes>"
      ]
     },
     "metadata": {
      "needs_background": "light"
     },
     "output_type": "display_data"
    }
   ],
   "source": [
    "sns.residplot(df.highwaympg, df.price)\n",
    "#Residual plot is the plot of the error, the Y-axis plot the difference between the predicted value and the actual value. \n",
    "#If there some relation in the residplot then the parameters predicted values do not match the actual values, ideally the grpah shoould be a straight line passing through X-axis. \n",
    "#A parabola or increasing graph is not a good sign."
   ]
  },
  {
   "cell_type": "code",
   "execution_count": 30,
   "id": "e3d3ed76",
   "metadata": {},
   "outputs": [
    {
     "data": {
      "text/plain": [
       "poly1d([-1.49603403e+00,  1.97860523e+02, -8.71437435e+03,  1.35089693e+05])"
      ]
     },
     "execution_count": 30,
     "metadata": {},
     "output_type": "execute_result"
    }
   ],
   "source": [
    "#if the linear model does not fit the data then help of polynomial is taken.\n",
    "\n",
    "f=np.polyfit(df.highwaympg,df.price,3)\n",
    "p= np.poly1d(f)\n",
    "p"
   ]
  },
  {
   "cell_type": "code",
   "execution_count": 31,
   "id": "4470d283",
   "metadata": {
    "scrolled": true
   },
   "outputs": [
    {
     "data": {
      "text/plain": [
       "array([[1.1100000e+02, 2.5480000e+03, 1.2321000e+04, 2.8282800e+05,\n",
       "        6.4923040e+06],\n",
       "       [1.1100000e+02, 2.5480000e+03, 1.2321000e+04, 2.8282800e+05,\n",
       "        6.4923040e+06],\n",
       "       [1.5400000e+02, 2.8230000e+03, 2.3716000e+04, 4.3474200e+05,\n",
       "        7.9693290e+06],\n",
       "       ...,\n",
       "       [1.3400000e+02, 3.0120000e+03, 1.7956000e+04, 4.0360800e+05,\n",
       "        9.0721440e+06],\n",
       "       [1.0600000e+02, 3.2170000e+03, 1.1236000e+04, 3.4100200e+05,\n",
       "        1.0349089e+07],\n",
       "       [1.1400000e+02, 3.0620000e+03, 1.2996000e+04, 3.4906800e+05,\n",
       "        9.3758440e+06]])"
      ]
     },
     "execution_count": 31,
     "metadata": {},
     "output_type": "execute_result"
    }
   ],
   "source": [
    "pr= PolynomialFeatures(degree=2, include_bias= False)\n",
    "x_polly= pr.fit_transform(df[['horsepower','curbweight']])\n",
    "x_polly"
   ]
  },
  {
   "cell_type": "code",
   "execution_count": 32,
   "id": "59178360",
   "metadata": {},
   "outputs": [],
   "source": [
    "# MSE- mean square error, as the name suggest mean of the sqaure of the error between predicted and the actual values\n",
    "#sklearn has directory for this .\n",
    "\n",
    "#R^2- coefficient of determination,  R^2= (1- MSE of regression line/ MSE of average of data)\n"
   ]
  },
  {
   "cell_type": "code",
   "execution_count": 33,
   "id": "2328b0b0",
   "metadata": {},
   "outputs": [
    {
     "data": {
      "text/html": [
       "<div>\n",
       "<style scoped>\n",
       "    .dataframe tbody tr th:only-of-type {\n",
       "        vertical-align: middle;\n",
       "    }\n",
       "\n",
       "    .dataframe tbody tr th {\n",
       "        vertical-align: top;\n",
       "    }\n",
       "\n",
       "    .dataframe thead th {\n",
       "        text-align: right;\n",
       "    }\n",
       "</style>\n",
       "<table border=\"1\" class=\"dataframe\">\n",
       "  <thead>\n",
       "    <tr style=\"text-align: right;\">\n",
       "      <th></th>\n",
       "      <th>enginesize</th>\n",
       "      <th>highwaympg</th>\n",
       "      <th>horsepower</th>\n",
       "      <th>price</th>\n",
       "    </tr>\n",
       "  </thead>\n",
       "  <tbody>\n",
       "    <tr>\n",
       "      <th>0</th>\n",
       "      <td>130</td>\n",
       "      <td>27</td>\n",
       "      <td>111</td>\n",
       "      <td>13495.000</td>\n",
       "    </tr>\n",
       "    <tr>\n",
       "      <th>1</th>\n",
       "      <td>130</td>\n",
       "      <td>27</td>\n",
       "      <td>111</td>\n",
       "      <td>16500.000</td>\n",
       "    </tr>\n",
       "    <tr>\n",
       "      <th>2</th>\n",
       "      <td>152</td>\n",
       "      <td>26</td>\n",
       "      <td>154</td>\n",
       "      <td>16500.000</td>\n",
       "    </tr>\n",
       "    <tr>\n",
       "      <th>3</th>\n",
       "      <td>109</td>\n",
       "      <td>30</td>\n",
       "      <td>102</td>\n",
       "      <td>13950.000</td>\n",
       "    </tr>\n",
       "    <tr>\n",
       "      <th>4</th>\n",
       "      <td>136</td>\n",
       "      <td>22</td>\n",
       "      <td>115</td>\n",
       "      <td>17450.000</td>\n",
       "    </tr>\n",
       "    <tr>\n",
       "      <th>5</th>\n",
       "      <td>136</td>\n",
       "      <td>25</td>\n",
       "      <td>110</td>\n",
       "      <td>15250.000</td>\n",
       "    </tr>\n",
       "    <tr>\n",
       "      <th>6</th>\n",
       "      <td>136</td>\n",
       "      <td>25</td>\n",
       "      <td>110</td>\n",
       "      <td>17710.000</td>\n",
       "    </tr>\n",
       "    <tr>\n",
       "      <th>7</th>\n",
       "      <td>136</td>\n",
       "      <td>25</td>\n",
       "      <td>110</td>\n",
       "      <td>18920.000</td>\n",
       "    </tr>\n",
       "    <tr>\n",
       "      <th>8</th>\n",
       "      <td>131</td>\n",
       "      <td>20</td>\n",
       "      <td>140</td>\n",
       "      <td>23875.000</td>\n",
       "    </tr>\n",
       "    <tr>\n",
       "      <th>9</th>\n",
       "      <td>131</td>\n",
       "      <td>22</td>\n",
       "      <td>160</td>\n",
       "      <td>17859.167</td>\n",
       "    </tr>\n",
       "  </tbody>\n",
       "</table>\n",
       "</div>"
      ],
      "text/plain": [
       "   enginesize  highwaympg  horsepower      price\n",
       "0         130          27         111  13495.000\n",
       "1         130          27         111  16500.000\n",
       "2         152          26         154  16500.000\n",
       "3         109          30         102  13950.000\n",
       "4         136          22         115  17450.000\n",
       "5         136          25         110  15250.000\n",
       "6         136          25         110  17710.000\n",
       "7         136          25         110  18920.000\n",
       "8         131          20         140  23875.000\n",
       "9         131          22         160  17859.167"
      ]
     },
     "execution_count": 33,
     "metadata": {},
     "output_type": "execute_result"
    }
   ],
   "source": [
    "cdf= df[['enginesize','highwaympg','horsepower','price']]\n",
    "cdf.head(10)"
   ]
  },
  {
   "cell_type": "code",
   "execution_count": 34,
   "id": "37c3d2bd",
   "metadata": {},
   "outputs": [],
   "source": [
    "msk = np.random.rand(len(df)) < 0.8\n",
    "train= cdf[msk]\n",
    "test= cdf[~msk]"
   ]
  },
  {
   "cell_type": "code",
   "execution_count": 35,
   "id": "283cb432",
   "metadata": {},
   "outputs": [
    {
     "data": {
      "text/plain": [
       "array([[1.00000e+00, 1.30000e+02, 1.69000e+04],\n",
       "       [1.00000e+00, 1.30000e+02, 1.69000e+04],\n",
       "       [1.00000e+00, 1.52000e+02, 2.31040e+04],\n",
       "       [1.00000e+00, 1.09000e+02, 1.18810e+04],\n",
       "       [1.00000e+00, 1.36000e+02, 1.84960e+04],\n",
       "       [1.00000e+00, 1.36000e+02, 1.84960e+04],\n",
       "       [1.00000e+00, 1.36000e+02, 1.84960e+04],\n",
       "       [1.00000e+00, 1.36000e+02, 1.84960e+04],\n",
       "       [1.00000e+00, 1.31000e+02, 1.71610e+04],\n",
       "       [1.00000e+00, 1.08000e+02, 1.16640e+04],\n",
       "       [1.00000e+00, 1.08000e+02, 1.16640e+04],\n",
       "       [1.00000e+00, 1.64000e+02, 2.68960e+04],\n",
       "       [1.00000e+00, 1.64000e+02, 2.68960e+04],\n",
       "       [1.00000e+00, 1.64000e+02, 2.68960e+04],\n",
       "       [1.00000e+00, 2.09000e+02, 4.36810e+04],\n",
       "       [1.00000e+00, 2.09000e+02, 4.36810e+04],\n",
       "       [1.00000e+00, 2.09000e+02, 4.36810e+04],\n",
       "       [1.00000e+00, 6.10000e+01, 3.72100e+03],\n",
       "       [1.00000e+00, 9.00000e+01, 8.10000e+03],\n",
       "       [1.00000e+00, 9.00000e+01, 8.10000e+03],\n",
       "       [1.00000e+00, 9.00000e+01, 8.10000e+03],\n",
       "       [1.00000e+00, 9.80000e+01, 9.60400e+03],\n",
       "       [1.00000e+00, 9.00000e+01, 8.10000e+03],\n",
       "       [1.00000e+00, 9.80000e+01, 9.60400e+03],\n",
       "       [1.00000e+00, 1.22000e+02, 1.48840e+04],\n",
       "       [1.00000e+00, 9.20000e+01, 8.46400e+03],\n",
       "       [1.00000e+00, 9.20000e+01, 8.46400e+03],\n",
       "       [1.00000e+00, 9.20000e+01, 8.46400e+03],\n",
       "       [1.00000e+00, 9.20000e+01, 8.46400e+03],\n",
       "       [1.00000e+00, 9.20000e+01, 8.46400e+03],\n",
       "       [1.00000e+00, 9.20000e+01, 8.46400e+03],\n",
       "       [1.00000e+00, 1.10000e+02, 1.21000e+04],\n",
       "       [1.00000e+00, 1.10000e+02, 1.21000e+04],\n",
       "       [1.00000e+00, 1.10000e+02, 1.21000e+04],\n",
       "       [1.00000e+00, 1.10000e+02, 1.21000e+04],\n",
       "       [1.00000e+00, 1.11000e+02, 1.23210e+04],\n",
       "       [1.00000e+00, 9.00000e+01, 8.10000e+03],\n",
       "       [1.00000e+00, 1.19000e+02, 1.41610e+04],\n",
       "       [1.00000e+00, 2.58000e+02, 6.65640e+04],\n",
       "       [1.00000e+00, 3.26000e+02, 1.06276e+05],\n",
       "       [1.00000e+00, 9.10000e+01, 8.28100e+03],\n",
       "       [1.00000e+00, 9.10000e+01, 8.28100e+03],\n",
       "       [1.00000e+00, 9.10000e+01, 8.28100e+03],\n",
       "       [1.00000e+00, 9.10000e+01, 8.28100e+03],\n",
       "       [1.00000e+00, 7.00000e+01, 4.90000e+03],\n",
       "       [1.00000e+00, 7.00000e+01, 4.90000e+03],\n",
       "       [1.00000e+00, 7.00000e+01, 4.90000e+03],\n",
       "       [1.00000e+00, 8.00000e+01, 6.40000e+03],\n",
       "       [1.00000e+00, 1.22000e+02, 1.48840e+04],\n",
       "       [1.00000e+00, 1.22000e+02, 1.48840e+04],\n",
       "       [1.00000e+00, 1.22000e+02, 1.48840e+04],\n",
       "       [1.00000e+00, 1.22000e+02, 1.48840e+04],\n",
       "       [1.00000e+00, 1.22000e+02, 1.48840e+04],\n",
       "       [1.00000e+00, 1.40000e+02, 1.96000e+04],\n",
       "       [1.00000e+00, 1.34000e+02, 1.79560e+04],\n",
       "       [1.00000e+00, 1.83000e+02, 3.34890e+04],\n",
       "       [1.00000e+00, 1.83000e+02, 3.34890e+04],\n",
       "       [1.00000e+00, 1.83000e+02, 3.34890e+04],\n",
       "       [1.00000e+00, 1.83000e+02, 3.34890e+04],\n",
       "       [1.00000e+00, 2.34000e+02, 5.47560e+04],\n",
       "       [1.00000e+00, 3.08000e+02, 9.48640e+04],\n",
       "       [1.00000e+00, 3.04000e+02, 9.24160e+04],\n",
       "       [1.00000e+00, 1.40000e+02, 1.96000e+04],\n",
       "       [1.00000e+00, 9.20000e+01, 8.46400e+03],\n",
       "       [1.00000e+00, 9.20000e+01, 8.46400e+03],\n",
       "       [1.00000e+00, 9.20000e+01, 8.46400e+03],\n",
       "       [1.00000e+00, 9.80000e+01, 9.60400e+03],\n",
       "       [1.00000e+00, 1.10000e+02, 1.21000e+04],\n",
       "       [1.00000e+00, 1.22000e+02, 1.48840e+04],\n",
       "       [1.00000e+00, 1.56000e+02, 2.43360e+04],\n",
       "       [1.00000e+00, 1.56000e+02, 2.43360e+04],\n",
       "       [1.00000e+00, 1.22000e+02, 1.48840e+04],\n",
       "       [1.00000e+00, 1.10000e+02, 1.21000e+04],\n",
       "       [1.00000e+00, 9.70000e+01, 9.40900e+03],\n",
       "       [1.00000e+00, 1.03000e+02, 1.06090e+04],\n",
       "       [1.00000e+00, 9.70000e+01, 9.40900e+03],\n",
       "       [1.00000e+00, 9.70000e+01, 9.40900e+03],\n",
       "       [1.00000e+00, 9.70000e+01, 9.40900e+03],\n",
       "       [1.00000e+00, 9.70000e+01, 9.40900e+03],\n",
       "       [1.00000e+00, 9.70000e+01, 9.40900e+03],\n",
       "       [1.00000e+00, 1.20000e+02, 1.44000e+04],\n",
       "       [1.00000e+00, 1.20000e+02, 1.44000e+04],\n",
       "       [1.00000e+00, 1.81000e+02, 3.27610e+04],\n",
       "       [1.00000e+00, 1.81000e+02, 3.27610e+04],\n",
       "       [1.00000e+00, 1.81000e+02, 3.27610e+04],\n",
       "       [1.00000e+00, 1.81000e+02, 3.27610e+04],\n",
       "       [1.00000e+00, 1.81000e+02, 3.27610e+04],\n",
       "       [1.00000e+00, 1.81000e+02, 3.27610e+04],\n",
       "       [1.00000e+00, 1.20000e+02, 1.44000e+04],\n",
       "       [1.00000e+00, 1.52000e+02, 2.31040e+04],\n",
       "       [1.00000e+00, 1.20000e+02, 1.44000e+04],\n",
       "       [1.00000e+00, 1.20000e+02, 1.44000e+04],\n",
       "       [1.00000e+00, 1.20000e+02, 1.44000e+04],\n",
       "       [1.00000e+00, 1.20000e+02, 1.44000e+04],\n",
       "       [1.00000e+00, 1.52000e+02, 2.31040e+04],\n",
       "       [1.00000e+00, 1.34000e+02, 1.79560e+04],\n",
       "       [1.00000e+00, 9.00000e+01, 8.10000e+03],\n",
       "       [1.00000e+00, 9.80000e+01, 9.60400e+03],\n",
       "       [1.00000e+00, 9.00000e+01, 8.10000e+03],\n",
       "       [1.00000e+00, 9.80000e+01, 9.60400e+03],\n",
       "       [1.00000e+00, 1.56000e+02, 2.43360e+04],\n",
       "       [1.00000e+00, 1.94000e+02, 3.76360e+04],\n",
       "       [1.00000e+00, 1.94000e+02, 3.76360e+04],\n",
       "       [1.00000e+00, 2.03000e+02, 4.12090e+04],\n",
       "       [1.00000e+00, 1.21000e+02, 1.46410e+04],\n",
       "       [1.00000e+00, 1.21000e+02, 1.46410e+04],\n",
       "       [1.00000e+00, 1.21000e+02, 1.46410e+04],\n",
       "       [1.00000e+00, 9.70000e+01, 9.40900e+03],\n",
       "       [1.00000e+00, 1.08000e+02, 1.16640e+04],\n",
       "       [1.00000e+00, 1.08000e+02, 1.16640e+04],\n",
       "       [1.00000e+00, 1.08000e+02, 1.16640e+04],\n",
       "       [1.00000e+00, 1.08000e+02, 1.16640e+04],\n",
       "       [1.00000e+00, 1.08000e+02, 1.16640e+04],\n",
       "       [1.00000e+00, 1.08000e+02, 1.16640e+04],\n",
       "       [1.00000e+00, 1.08000e+02, 1.16640e+04],\n",
       "       [1.00000e+00, 1.08000e+02, 1.16640e+04],\n",
       "       [1.00000e+00, 1.08000e+02, 1.16640e+04],\n",
       "       [1.00000e+00, 9.20000e+01, 8.46400e+03],\n",
       "       [1.00000e+00, 9.20000e+01, 8.46400e+03],\n",
       "       [1.00000e+00, 9.20000e+01, 8.46400e+03],\n",
       "       [1.00000e+00, 9.80000e+01, 9.60400e+03],\n",
       "       [1.00000e+00, 1.10000e+02, 1.21000e+04],\n",
       "       [1.00000e+00, 9.80000e+01, 9.60400e+03],\n",
       "       [1.00000e+00, 9.80000e+01, 9.60400e+03],\n",
       "       [1.00000e+00, 9.80000e+01, 9.60400e+03],\n",
       "       [1.00000e+00, 9.80000e+01, 9.60400e+03],\n",
       "       [1.00000e+00, 9.80000e+01, 9.60400e+03],\n",
       "       [1.00000e+00, 9.80000e+01, 9.60400e+03],\n",
       "       [1.00000e+00, 9.80000e+01, 9.60400e+03],\n",
       "       [1.00000e+00, 1.46000e+02, 2.13160e+04],\n",
       "       [1.00000e+00, 1.46000e+02, 2.13160e+04],\n",
       "       [1.00000e+00, 1.46000e+02, 2.13160e+04],\n",
       "       [1.00000e+00, 1.46000e+02, 2.13160e+04],\n",
       "       [1.00000e+00, 1.46000e+02, 2.13160e+04],\n",
       "       [1.00000e+00, 1.46000e+02, 2.13160e+04],\n",
       "       [1.00000e+00, 1.22000e+02, 1.48840e+04],\n",
       "       [1.00000e+00, 1.10000e+02, 1.21000e+04],\n",
       "       [1.00000e+00, 1.22000e+02, 1.48840e+04],\n",
       "       [1.00000e+00, 1.71000e+02, 2.92410e+04],\n",
       "       [1.00000e+00, 1.71000e+02, 2.92410e+04],\n",
       "       [1.00000e+00, 1.71000e+02, 2.92410e+04],\n",
       "       [1.00000e+00, 1.61000e+02, 2.59210e+04],\n",
       "       [1.00000e+00, 9.70000e+01, 9.40900e+03],\n",
       "       [1.00000e+00, 1.09000e+02, 1.18810e+04],\n",
       "       [1.00000e+00, 9.70000e+01, 9.40900e+03],\n",
       "       [1.00000e+00, 1.09000e+02, 1.18810e+04],\n",
       "       [1.00000e+00, 1.09000e+02, 1.18810e+04],\n",
       "       [1.00000e+00, 9.70000e+01, 9.40900e+03],\n",
       "       [1.00000e+00, 1.09000e+02, 1.18810e+04],\n",
       "       [1.00000e+00, 1.09000e+02, 1.18810e+04],\n",
       "       [1.00000e+00, 1.09000e+02, 1.18810e+04],\n",
       "       [1.00000e+00, 1.36000e+02, 1.84960e+04],\n",
       "       [1.00000e+00, 9.70000e+01, 9.40900e+03],\n",
       "       [1.00000e+00, 1.09000e+02, 1.18810e+04],\n",
       "       [1.00000e+00, 1.41000e+02, 1.98810e+04],\n",
       "       [1.00000e+00, 1.41000e+02, 1.98810e+04],\n",
       "       [1.00000e+00, 1.41000e+02, 1.98810e+04],\n",
       "       [1.00000e+00, 1.30000e+02, 1.69000e+04],\n",
       "       [1.00000e+00, 1.30000e+02, 1.69000e+04],\n",
       "       [1.00000e+00, 1.41000e+02, 1.98810e+04],\n",
       "       [1.00000e+00, 1.45000e+02, 2.10250e+04],\n",
       "       [1.00000e+00, 1.41000e+02, 1.98810e+04]])"
      ]
     },
     "execution_count": 35,
     "metadata": {},
     "output_type": "execute_result"
    }
   ],
   "source": [
    "train_x = np.asanyarray(train[['enginesize']])\n",
    "train_y = np.asanyarray(train[['highwaympg']])\n",
    "\n",
    "test_x = np.asanyarray(train[['enginesize']])\n",
    "test_y = np.asanyarray(train[['highwaympg']])\n",
    "\n",
    "poly = PolynomialFeatures(degree=2)\n",
    "train_x_poly = poly.fit_transform(train_x)\n",
    "train_x_poly\n"
   ]
  },
  {
   "cell_type": "code",
   "execution_count": 36,
   "id": "cd47833c",
   "metadata": {},
   "outputs": [
    {
     "data": {
      "text/plain": [
       "array([[ 0.        , -0.23002482,  0.00036564]])"
      ]
     },
     "execution_count": 36,
     "metadata": {},
     "output_type": "execute_result"
    }
   ],
   "source": [
    "clf= linear_model.LinearRegression()\n",
    "train_y_= clf.fit(train_x_poly, train_y)\n",
    "clf.coef_\n",
    "\n"
   ]
  },
  {
   "cell_type": "code",
   "execution_count": 37,
   "id": "b7beb23d",
   "metadata": {},
   "outputs": [
    {
     "data": {
      "text/plain": [
       "array([53.26912328])"
      ]
     },
     "execution_count": 37,
     "metadata": {},
     "output_type": "execute_result"
    }
   ],
   "source": [
    "clf.intercept_\n"
   ]
  },
  {
   "cell_type": "code",
   "execution_count": 38,
   "id": "79f413fa",
   "metadata": {},
   "outputs": [
    {
     "data": {
      "text/plain": [
       "<matplotlib.collections.PathCollection at 0x14929ae20>"
      ]
     },
     "execution_count": 38,
     "metadata": {},
     "output_type": "execute_result"
    },
    {
     "data": {
      "image/png": "[encoded data removed]",
      "text/plain": [
       "<Figure size 432x288 with 1 Axes>"
      ]
     },
     "metadata": {
      "needs_background": "light"
     },
     "output_type": "display_data"
    }
   ],
   "source": [
    "plt.scatter(train.enginesize, train.highwaympg, color= 'red')\n"
   ]
  },
  {
   "cell_type": "code",
   "execution_count": 39,
   "id": "3e38eb62",
   "metadata": {},
   "outputs": [
    {
     "data": {
      "text/plain": [
       "<matplotlib.collections.PathCollection at 0x1493e2250>"
      ]
     },
     "execution_count": 39,
     "metadata": {},
     "output_type": "execute_result"
    },
    {
     "data": {
      "image/png": "[encoded data removed]",
      "text/plain": [
       "<Figure size 432x288 with 1 Axes>"
      ]
     },
     "metadata": {
      "needs_background": "light"
     },
     "output_type": "display_data"
    }
   ],
   "source": [
    "XX= np.arange(50, 400, 0.1)\n",
    "YY= clf.intercept_[0]+ clf.coef_[0][1]*XX+ clf.coef_[0][2]*np.power(XX, 2)\n",
    "plt.plot(XX,YY)\n",
    "plt.scatter(XX,YY)"
   ]
  },
  {
   "cell_type": "code",
   "execution_count": 40,
   "id": "53a7c3b2",
   "metadata": {
    "scrolled": true
   },
   "outputs": [
    {
     "name": "stdout",
     "output_type": "stream",
     "text": [
      "Mean absolute error: 3.64\n",
      "Residual sum of squares (MSE): 26.03\n",
      "R2-score: 0.46\n"
     ]
    }
   ],
   "source": [
    "from sklearn.metrics import r2_score\n",
    "test_x_poly= poly.fit_transform(test_x)\n",
    "test_y_ = clf.predict(test_x_poly)\n",
    "\n",
    "print(\"Mean absolute error: %.2f\" % np.mean(np.absolute(test_y_ - test_y)))\n",
    "print(\"Residual sum of squares (MSE): %.2f\" % np.mean((test_y_ - test_y) ** 2))\n",
    "print(\"R2-score: %.2f\" % r2_score(test_y,test_y_ ) )"
   ]
  },
  {
   "cell_type": "code",
   "execution_count": 41,
   "id": "35576808",
   "metadata": {},
   "outputs": [
    {
     "data": {
      "text/plain": [
       "sedan          96\n",
       "hatchback      70\n",
       "wagon          25\n",
       "hardtop         8\n",
       "convertible     6\n",
       "Name: carbody, dtype: int64"
      ]
     },
     "execution_count": 41,
     "metadata": {},
     "output_type": "execute_result"
    }
   ],
   "source": [
    "df.carbody.value_counts()"
   ]
  },
  {
   "cell_type": "code",
   "execution_count": 42,
   "id": "c3999941",
   "metadata": {},
   "outputs": [
    {
     "data": {
      "text/plain": [
       "array([[<AxesSubplot:title={'center':'price'}>]], dtype=object)"
      ]
     },
     "execution_count": 42,
     "metadata": {},
     "output_type": "execute_result"
    },
    {
     "data": {
      "image/png": "[encoded data removed]",
      "text/plain": [
       "<Figure size 432x288 with 1 Axes>"
      ]
     },
     "metadata": {
      "needs_background": "light"
     },
     "output_type": "display_data"
    }
   ],
   "source": [
    "df.hist(column= 'price', bins= 20)"
   ]
  },
  {
   "cell_type": "code",
   "execution_count": 43,
   "id": "68176294",
   "metadata": {},
   "outputs": [],
   "source": [
    "X= df[['enginesize','stroke','boreratio','peakrpm','horsepower']]"
   ]
  },
  {
   "cell_type": "code",
   "execution_count": 44,
   "id": "341577e5",
   "metadata": {},
   "outputs": [
    {
     "data": {
      "text/html": [
       "<div>\n",
       "<style scoped>\n",
       "    .dataframe tbody tr th:only-of-type {\n",
       "        vertical-align: middle;\n",
       "    }\n",
       "\n",
       "    .dataframe tbody tr th {\n",
       "        vertical-align: top;\n",
       "    }\n",
       "\n",
       "    .dataframe thead th {\n",
       "        text-align: right;\n",
       "    }\n",
       "</style>\n",
       "<table border=\"1\" class=\"dataframe\">\n",
       "  <thead>\n",
       "    <tr style=\"text-align: right;\">\n",
       "      <th></th>\n",
       "      <th>enginesize</th>\n",
       "      <th>stroke</th>\n",
       "      <th>boreratio</th>\n",
       "      <th>peakrpm</th>\n",
       "      <th>horsepower</th>\n",
       "    </tr>\n",
       "  </thead>\n",
       "  <tbody>\n",
       "    <tr>\n",
       "      <th>0</th>\n",
       "      <td>130</td>\n",
       "      <td>2.68</td>\n",
       "      <td>3.47</td>\n",
       "      <td>5000</td>\n",
       "      <td>111</td>\n",
       "    </tr>\n",
       "    <tr>\n",
       "      <th>1</th>\n",
       "      <td>130</td>\n",
       "      <td>2.68</td>\n",
       "      <td>3.47</td>\n",
       "      <td>5000</td>\n",
       "      <td>111</td>\n",
       "    </tr>\n",
       "    <tr>\n",
       "      <th>2</th>\n",
       "      <td>152</td>\n",
       "      <td>3.47</td>\n",
       "      <td>2.68</td>\n",
       "      <td>5000</td>\n",
       "      <td>154</td>\n",
       "    </tr>\n",
       "    <tr>\n",
       "      <th>3</th>\n",
       "      <td>109</td>\n",
       "      <td>3.40</td>\n",
       "      <td>3.19</td>\n",
       "      <td>5500</td>\n",
       "      <td>102</td>\n",
       "    </tr>\n",
       "    <tr>\n",
       "      <th>4</th>\n",
       "      <td>136</td>\n",
       "      <td>3.40</td>\n",
       "      <td>3.19</td>\n",
       "      <td>5500</td>\n",
       "      <td>115</td>\n",
       "    </tr>\n",
       "  </tbody>\n",
       "</table>\n",
       "</div>"
      ],
      "text/plain": [
       "   enginesize  stroke  boreratio  peakrpm  horsepower\n",
       "0         130    2.68       3.47     5000         111\n",
       "1         130    2.68       3.47     5000         111\n",
       "2         152    3.47       2.68     5000         154\n",
       "3         109    3.40       3.19     5500         102\n",
       "4         136    3.40       3.19     5500         115"
      ]
     },
     "execution_count": 44,
     "metadata": {},
     "output_type": "execute_result"
    }
   ],
   "source": [
    "X[0:5]"
   ]
  },
  {
   "cell_type": "code",
   "execution_count": 45,
   "id": "3e7dd060",
   "metadata": {},
   "outputs": [
    {
     "data": {
      "text/plain": [
       "array([[1.30e+02, 2.68e+00, 3.47e+00, 5.00e+03, 1.11e+02],\n",
       "       [1.30e+02, 2.68e+00, 3.47e+00, 5.00e+03, 1.11e+02],\n",
       "       [1.52e+02, 3.47e+00, 2.68e+00, 5.00e+03, 1.54e+02],\n",
       "       ...,\n",
       "       [1.73e+02, 2.87e+00, 3.58e+00, 5.50e+03, 1.34e+02],\n",
       "       [1.45e+02, 3.40e+00, 3.01e+00, 4.80e+03, 1.06e+02],\n",
       "       [1.41e+02, 3.15e+00, 3.78e+00, 5.40e+03, 1.14e+02]])"
      ]
     },
     "execution_count": 45,
     "metadata": {},
     "output_type": "execute_result"
    }
   ],
   "source": [
    "X.values"
   ]
  },
  {
   "cell_type": "code",
   "execution_count": 46,
   "id": "995cab65",
   "metadata": {},
   "outputs": [],
   "source": [
    "Y= df.carbody"
   ]
  },
  {
   "cell_type": "code",
   "execution_count": 47,
   "id": "77f32ac9",
   "metadata": {},
   "outputs": [
    {
     "data": {
      "text/plain": [
       "array([[ 0.07444893, -1.83937734,  0.51907138, -0.26296022,  0.17448278],\n",
       "       [ 0.07444893, -1.83937734,  0.51907138, -0.26296022,  0.17448278],\n",
       "       [ 0.60404617,  0.68594616, -2.40488029, -0.26296022,  1.26453643],\n",
       "       [-0.43107572,  0.46218332, -0.51726592,  0.78785546, -0.05366798],\n",
       "       [ 0.21888454,  0.46218332, -0.51726592,  0.78785546,  0.27588312]])"
      ]
     },
     "execution_count": 47,
     "metadata": {},
     "output_type": "execute_result"
    }
   ],
   "source": [
    "X = preprocessing.StandardScaler().fit(X).transform(X.astype(float))\n",
    "X[0:5]"
   ]
  },
  {
   "cell_type": "code",
   "execution_count": 48,
   "id": "70767f66",
   "metadata": {},
   "outputs": [
    {
     "name": "stdout",
     "output_type": "stream",
     "text": [
      "Train set: (164, 5) (164,)\n",
      "Test set: (41, 5) (41,)\n"
     ]
    }
   ],
   "source": [
    "from sklearn.model_selection import train_test_split\n",
    "X_train, X_test,  Y_train, Y_test = train_test_split(X,Y, test_size=0.2, random_state=4)\n",
    "print ('Train set:', X_train.shape,  Y_train.shape)\n",
    "print ('Test set:', X_test.shape,  Y_test.shape)"
   ]
  },
  {
   "cell_type": "code",
   "execution_count": 49,
   "id": "f38b74ae",
   "metadata": {},
   "outputs": [],
   "source": [
    "from sklearn.neighbors import KNeighborsClassifier"
   ]
  },
  {
   "cell_type": "code",
   "execution_count": 50,
   "id": "538823d8",
   "metadata": {},
   "outputs": [
    {
     "data": {
      "text/plain": [
       "KNeighborsClassifier(n_neighbors=20)"
      ]
     },
     "execution_count": 50,
     "metadata": {},
     "output_type": "execute_result"
    }
   ],
   "source": [
    "k=20\n",
    "\n",
    "neigh = KNeighborsClassifier(n_neighbors = k).fit(X_train,Y_train)\n",
    "neigh"
   ]
  },
  {
   "cell_type": "code",
   "execution_count": 51,
   "id": "978166c7",
   "metadata": {},
   "outputs": [],
   "source": [
    "yhat= neigh.predict(X_test)\n"
   ]
  },
  {
   "cell_type": "code",
   "execution_count": 52,
   "id": "09680100",
   "metadata": {},
   "outputs": [
    {
     "data": {
      "text/plain": [
       "array(['sedan', 'hatchback', 'hatchback', 'sedan', 'sedan'], dtype=object)"
      ]
     },
     "execution_count": 52,
     "metadata": {},
     "output_type": "execute_result"
    }
   ],
   "source": [
    "yhat[0:5]"
   ]
  },
  {
   "cell_type": "code",
   "execution_count": 53,
   "id": "0b8a23a4",
   "metadata": {},
   "outputs": [
    {
     "name": "stdout",
     "output_type": "stream",
     "text": [
      "Train set Accuracy:  0.5670731707317073\n",
      "Test set Accuracy:  0.6341463414634146\n"
     ]
    }
   ],
   "source": [
    "from sklearn import metrics\n",
    "print(\"Train set Accuracy: \", metrics.accuracy_score(Y_train, neigh.predict(X_train)))\n",
    "print(\"Test set Accuracy: \", metrics.accuracy_score(Y_test, yhat))"
   ]
  },
  {
   "cell_type": "code",
   "execution_count": 54,
   "id": "88dc4ef5",
   "metadata": {},
   "outputs": [
    {
     "data": {
      "text/plain": [
       "array([0.51219512, 0.56097561, 0.56097561, 0.48780488, 0.53658537,\n",
       "       0.58536585, 0.58536585, 0.56097561, 0.6097561 , 0.58536585,\n",
       "       0.58536585, 0.6097561 , 0.63414634, 0.63414634, 0.63414634,\n",
       "       0.63414634, 0.6097561 , 0.63414634, 0.6097561 ])"
      ]
     },
     "execution_count": 54,
     "metadata": {},
     "output_type": "execute_result"
    }
   ],
   "source": [
    "Ks = 20\n",
    "mean_acc = np.zeros((Ks-1))\n",
    "std_acc = np.zeros((Ks-1))\n",
    "\n",
    "for n in range(1,Ks):\n",
    "    \n",
    "    #Train Model and Predict  \n",
    "    neigh = KNeighborsClassifier(n_neighbors = n).fit(X_train,Y_train)\n",
    "    yhat=neigh.predict(X_test)\n",
    "    mean_acc[n-1] = metrics.accuracy_score(Y_test, yhat)\n",
    "\n",
    "    \n",
    "    std_acc[n-1]=np.std(yhat==Y_test)/np.sqrt(yhat.shape[0])\n",
    "\n",
    "mean_acc"
   ]
  },
  {
   "cell_type": "code",
   "execution_count": 55,
   "id": "7469caab",
   "metadata": {},
   "outputs": [
    {
     "data": {
      "image/png": "[encoded data removed]",
      "text/plain": [
       "<Figure size 432x288 with 1 Axes>"
      ]
     },
     "metadata": {
      "needs_background": "light"
     },
     "output_type": "display_data"
    }
   ],
   "source": [
    "plt.plot(range(1,Ks),mean_acc,'g')\n",
    "plt.fill_between(range(1,Ks),mean_acc - 1 * std_acc,mean_acc + 1 * std_acc, alpha=0.10)\n",
    "plt.fill_between(range(1,Ks),mean_acc - 3 * std_acc,mean_acc + 3 * std_acc, alpha=0.10,color=\"green\")\n",
    "plt.legend(('Accuracy ', '+/- 1xstd','+/- 3xstd'))\n",
    "plt.ylabel('Accuracy ')\n",
    "plt.xlabel('Number of Neighbors (K)')\n",
    "plt.tight_layout()\n",
    "plt.show()"
   ]
  },
  {
   "cell_type": "code",
   "execution_count": 56,
   "id": "507027ff",
   "metadata": {},
   "outputs": [
    {
     "name": "stdout",
     "output_type": "stream",
     "text": [
      "The best accuracy was with 0.6341463414634146 with k= 13\n"
     ]
    }
   ],
   "source": [
    "print( \"The best accuracy was with\", mean_acc.max(), \"with k=\", mean_acc.argmax()+1) "
   ]
  },
  {
   "cell_type": "code",
   "execution_count": 58,
   "id": "8aaf77d8",
   "metadata": {},
   "outputs": [],
   "source": [
    "from sklearn.tree import DecisionTreeClassifier"
   ]
  },
  {
   "cell_type": "code",
   "execution_count": 59,
   "id": "cb35c4fa",
   "metadata": {
    "scrolled": true
   },
   "outputs": [
    {
     "data": {
      "text/html": [
       "<div>\n",
       "<style scoped>\n",
       "    .dataframe tbody tr th:only-of-type {\n",
       "        vertical-align: middle;\n",
       "    }\n",
       "\n",
       "    .dataframe tbody tr th {\n",
       "        vertical-align: top;\n",
       "    }\n",
       "\n",
       "    .dataframe thead th {\n",
       "        text-align: right;\n",
       "    }\n",
       "</style>\n",
       "<table border=\"1\" class=\"dataframe\">\n",
       "  <thead>\n",
       "    <tr style=\"text-align: right;\">\n",
       "      <th></th>\n",
       "      <th>car_ID</th>\n",
       "      <th>symboling</th>\n",
       "      <th>CarName</th>\n",
       "      <th>fueltype</th>\n",
       "      <th>aspiration</th>\n",
       "      <th>doornumber</th>\n",
       "      <th>carbody</th>\n",
       "      <th>drivewheel</th>\n",
       "      <th>enginelocation</th>\n",
       "      <th>wheelbase</th>\n",
       "      <th>...</th>\n",
       "      <th>enginesize</th>\n",
       "      <th>fuelsystem</th>\n",
       "      <th>boreratio</th>\n",
       "      <th>stroke</th>\n",
       "      <th>compressionratio</th>\n",
       "      <th>horsepower</th>\n",
       "      <th>peakrpm</th>\n",
       "      <th>citympg</th>\n",
       "      <th>highwaympg</th>\n",
       "      <th>price</th>\n",
       "    </tr>\n",
       "  </thead>\n",
       "  <tbody>\n",
       "    <tr>\n",
       "      <th>0</th>\n",
       "      <td>1</td>\n",
       "      <td>3</td>\n",
       "      <td>alfa-romero giulia</td>\n",
       "      <td>gas</td>\n",
       "      <td>std</td>\n",
       "      <td>two</td>\n",
       "      <td>convertible</td>\n",
       "      <td>rwd</td>\n",
       "      <td>front</td>\n",
       "      <td>88.6</td>\n",
       "      <td>...</td>\n",
       "      <td>130</td>\n",
       "      <td>mpfi</td>\n",
       "      <td>3.47</td>\n",
       "      <td>2.68</td>\n",
       "      <td>9.0</td>\n",
       "      <td>111</td>\n",
       "      <td>5000</td>\n",
       "      <td>21</td>\n",
       "      <td>27</td>\n",
       "      <td>13495.0</td>\n",
       "    </tr>\n",
       "    <tr>\n",
       "      <th>1</th>\n",
       "      <td>2</td>\n",
       "      <td>3</td>\n",
       "      <td>alfa-romero stelvio</td>\n",
       "      <td>gas</td>\n",
       "      <td>std</td>\n",
       "      <td>two</td>\n",
       "      <td>convertible</td>\n",
       "      <td>rwd</td>\n",
       "      <td>front</td>\n",
       "      <td>88.6</td>\n",
       "      <td>...</td>\n",
       "      <td>130</td>\n",
       "      <td>mpfi</td>\n",
       "      <td>3.47</td>\n",
       "      <td>2.68</td>\n",
       "      <td>9.0</td>\n",
       "      <td>111</td>\n",
       "      <td>5000</td>\n",
       "      <td>21</td>\n",
       "      <td>27</td>\n",
       "      <td>16500.0</td>\n",
       "    </tr>\n",
       "    <tr>\n",
       "      <th>2</th>\n",
       "      <td>3</td>\n",
       "      <td>1</td>\n",
       "      <td>alfa-romero Quadrifoglio</td>\n",
       "      <td>gas</td>\n",
       "      <td>std</td>\n",
       "      <td>two</td>\n",
       "      <td>hatchback</td>\n",
       "      <td>rwd</td>\n",
       "      <td>front</td>\n",
       "      <td>94.5</td>\n",
       "      <td>...</td>\n",
       "      <td>152</td>\n",
       "      <td>mpfi</td>\n",
       "      <td>2.68</td>\n",
       "      <td>3.47</td>\n",
       "      <td>9.0</td>\n",
       "      <td>154</td>\n",
       "      <td>5000</td>\n",
       "      <td>19</td>\n",
       "      <td>26</td>\n",
       "      <td>16500.0</td>\n",
       "    </tr>\n",
       "    <tr>\n",
       "      <th>3</th>\n",
       "      <td>4</td>\n",
       "      <td>2</td>\n",
       "      <td>audi 100 ls</td>\n",
       "      <td>gas</td>\n",
       "      <td>std</td>\n",
       "      <td>four</td>\n",
       "      <td>sedan</td>\n",
       "      <td>fwd</td>\n",
       "      <td>front</td>\n",
       "      <td>99.8</td>\n",
       "      <td>...</td>\n",
       "      <td>109</td>\n",
       "      <td>mpfi</td>\n",
       "      <td>3.19</td>\n",
       "      <td>3.40</td>\n",
       "      <td>10.0</td>\n",
       "      <td>102</td>\n",
       "      <td>5500</td>\n",
       "      <td>24</td>\n",
       "      <td>30</td>\n",
       "      <td>13950.0</td>\n",
       "    </tr>\n",
       "    <tr>\n",
       "      <th>4</th>\n",
       "      <td>5</td>\n",
       "      <td>2</td>\n",
       "      <td>audi 100ls</td>\n",
       "      <td>gas</td>\n",
       "      <td>std</td>\n",
       "      <td>four</td>\n",
       "      <td>sedan</td>\n",
       "      <td>4wd</td>\n",
       "      <td>front</td>\n",
       "      <td>99.4</td>\n",
       "      <td>...</td>\n",
       "      <td>136</td>\n",
       "      <td>mpfi</td>\n",
       "      <td>3.19</td>\n",
       "      <td>3.40</td>\n",
       "      <td>8.0</td>\n",
       "      <td>115</td>\n",
       "      <td>5500</td>\n",
       "      <td>18</td>\n",
       "      <td>22</td>\n",
       "      <td>17450.0</td>\n",
       "    </tr>\n",
       "    <tr>\n",
       "      <th>...</th>\n",
       "      <td>...</td>\n",
       "      <td>...</td>\n",
       "      <td>...</td>\n",
       "      <td>...</td>\n",
       "      <td>...</td>\n",
       "      <td>...</td>\n",
       "      <td>...</td>\n",
       "      <td>...</td>\n",
       "      <td>...</td>\n",
       "      <td>...</td>\n",
       "      <td>...</td>\n",
       "      <td>...</td>\n",
       "      <td>...</td>\n",
       "      <td>...</td>\n",
       "      <td>...</td>\n",
       "      <td>...</td>\n",
       "      <td>...</td>\n",
       "      <td>...</td>\n",
       "      <td>...</td>\n",
       "      <td>...</td>\n",
       "      <td>...</td>\n",
       "    </tr>\n",
       "    <tr>\n",
       "      <th>200</th>\n",
       "      <td>201</td>\n",
       "      <td>-1</td>\n",
       "      <td>volvo 145e (sw)</td>\n",
       "      <td>gas</td>\n",
       "      <td>std</td>\n",
       "      <td>four</td>\n",
       "      <td>sedan</td>\n",
       "      <td>rwd</td>\n",
       "      <td>front</td>\n",
       "      <td>109.1</td>\n",
       "      <td>...</td>\n",
       "      <td>141</td>\n",
       "      <td>mpfi</td>\n",
       "      <td>3.78</td>\n",
       "      <td>3.15</td>\n",
       "      <td>9.5</td>\n",
       "      <td>114</td>\n",
       "      <td>5400</td>\n",
       "      <td>23</td>\n",
       "      <td>28</td>\n",
       "      <td>16845.0</td>\n",
       "    </tr>\n",
       "    <tr>\n",
       "      <th>201</th>\n",
       "      <td>202</td>\n",
       "      <td>-1</td>\n",
       "      <td>volvo 144ea</td>\n",
       "      <td>gas</td>\n",
       "      <td>turbo</td>\n",
       "      <td>four</td>\n",
       "      <td>sedan</td>\n",
       "      <td>rwd</td>\n",
       "      <td>front</td>\n",
       "      <td>109.1</td>\n",
       "      <td>...</td>\n",
       "      <td>141</td>\n",
       "      <td>mpfi</td>\n",
       "      <td>3.78</td>\n",
       "      <td>3.15</td>\n",
       "      <td>8.7</td>\n",
       "      <td>160</td>\n",
       "      <td>5300</td>\n",
       "      <td>19</td>\n",
       "      <td>25</td>\n",
       "      <td>19045.0</td>\n",
       "    </tr>\n",
       "    <tr>\n",
       "      <th>202</th>\n",
       "      <td>203</td>\n",
       "      <td>-1</td>\n",
       "      <td>volvo 244dl</td>\n",
       "      <td>gas</td>\n",
       "      <td>std</td>\n",
       "      <td>four</td>\n",
       "      <td>sedan</td>\n",
       "      <td>rwd</td>\n",
       "      <td>front</td>\n",
       "      <td>109.1</td>\n",
       "      <td>...</td>\n",
       "      <td>173</td>\n",
       "      <td>mpfi</td>\n",
       "      <td>3.58</td>\n",
       "      <td>2.87</td>\n",
       "      <td>8.8</td>\n",
       "      <td>134</td>\n",
       "      <td>5500</td>\n",
       "      <td>18</td>\n",
       "      <td>23</td>\n",
       "      <td>21485.0</td>\n",
       "    </tr>\n",
       "    <tr>\n",
       "      <th>203</th>\n",
       "      <td>204</td>\n",
       "      <td>-1</td>\n",
       "      <td>volvo 246</td>\n",
       "      <td>diesel</td>\n",
       "      <td>turbo</td>\n",
       "      <td>four</td>\n",
       "      <td>sedan</td>\n",
       "      <td>rwd</td>\n",
       "      <td>front</td>\n",
       "      <td>109.1</td>\n",
       "      <td>...</td>\n",
       "      <td>145</td>\n",
       "      <td>idi</td>\n",
       "      <td>3.01</td>\n",
       "      <td>3.40</td>\n",
       "      <td>23.0</td>\n",
       "      <td>106</td>\n",
       "      <td>4800</td>\n",
       "      <td>26</td>\n",
       "      <td>27</td>\n",
       "      <td>22470.0</td>\n",
       "    </tr>\n",
       "    <tr>\n",
       "      <th>204</th>\n",
       "      <td>205</td>\n",
       "      <td>-1</td>\n",
       "      <td>volvo 264gl</td>\n",
       "      <td>gas</td>\n",
       "      <td>turbo</td>\n",
       "      <td>four</td>\n",
       "      <td>sedan</td>\n",
       "      <td>rwd</td>\n",
       "      <td>front</td>\n",
       "      <td>109.1</td>\n",
       "      <td>...</td>\n",
       "      <td>141</td>\n",
       "      <td>mpfi</td>\n",
       "      <td>3.78</td>\n",
       "      <td>3.15</td>\n",
       "      <td>9.5</td>\n",
       "      <td>114</td>\n",
       "      <td>5400</td>\n",
       "      <td>19</td>\n",
       "      <td>25</td>\n",
       "      <td>22625.0</td>\n",
       "    </tr>\n",
       "  </tbody>\n",
       "</table>\n",
       "<p>205 rows × 26 columns</p>\n",
       "</div>"
      ],
      "text/plain": [
       "     car_ID  symboling                   CarName fueltype aspiration  \\\n",
       "0         1          3        alfa-romero giulia      gas        std   \n",
       "1         2          3       alfa-romero stelvio      gas        std   \n",
       "2         3          1  alfa-romero Quadrifoglio      gas        std   \n",
       "3         4          2               audi 100 ls      gas        std   \n",
       "4         5          2                audi 100ls      gas        std   \n",
       "..      ...        ...                       ...      ...        ...   \n",
       "200     201         -1           volvo 145e (sw)      gas        std   \n",
       "201     202         -1               volvo 144ea      gas      turbo   \n",
       "202     203         -1               volvo 244dl      gas        std   \n",
       "203     204         -1                 volvo 246   diesel      turbo   \n",
       "204     205         -1               volvo 264gl      gas      turbo   \n",
       "\n",
       "    doornumber      carbody drivewheel enginelocation  wheelbase  ...  \\\n",
       "0          two  convertible        rwd          front       88.6  ...   \n",
       "1          two  convertible        rwd          front       88.6  ...   \n",
       "2          two    hatchback        rwd          front       94.5  ...   \n",
       "3         four        sedan        fwd          front       99.8  ...   \n",
       "4         four        sedan        4wd          front       99.4  ...   \n",
       "..         ...          ...        ...            ...        ...  ...   \n",
       "200       four        sedan        rwd          front      109.1  ...   \n",
       "201       four        sedan        rwd          front      109.1  ...   \n",
       "202       four        sedan        rwd          front      109.1  ...   \n",
       "203       four        sedan        rwd          front      109.1  ...   \n",
       "204       four        sedan        rwd          front      109.1  ...   \n",
       "\n",
       "     enginesize  fuelsystem  boreratio  stroke compressionratio horsepower  \\\n",
       "0           130        mpfi       3.47    2.68              9.0        111   \n",
       "1           130        mpfi       3.47    2.68              9.0        111   \n",
       "2           152        mpfi       2.68    3.47              9.0        154   \n",
       "3           109        mpfi       3.19    3.40             10.0        102   \n",
       "4           136        mpfi       3.19    3.40              8.0        115   \n",
       "..          ...         ...        ...     ...              ...        ...   \n",
       "200         141        mpfi       3.78    3.15              9.5        114   \n",
       "201         141        mpfi       3.78    3.15              8.7        160   \n",
       "202         173        mpfi       3.58    2.87              8.8        134   \n",
       "203         145         idi       3.01    3.40             23.0        106   \n",
       "204         141        mpfi       3.78    3.15              9.5        114   \n",
       "\n",
       "     peakrpm citympg  highwaympg    price  \n",
       "0       5000      21          27  13495.0  \n",
       "1       5000      21          27  16500.0  \n",
       "2       5000      19          26  16500.0  \n",
       "3       5500      24          30  13950.0  \n",
       "4       5500      18          22  17450.0  \n",
       "..       ...     ...         ...      ...  \n",
       "200     5400      23          28  16845.0  \n",
       "201     5300      19          25  19045.0  \n",
       "202     5500      18          23  21485.0  \n",
       "203     4800      26          27  22470.0  \n",
       "204     5400      19          25  22625.0  \n",
       "\n",
       "[205 rows x 26 columns]"
      ]
     },
     "execution_count": 59,
     "metadata": {},
     "output_type": "execute_result"
    }
   ],
   "source": [
    "df\n"
   ]
  },
  {
   "cell_type": "code",
   "execution_count": 63,
   "id": "4a613a8e",
   "metadata": {
    "scrolled": true
   },
   "outputs": [
    {
     "data": {
      "text/plain": [
       "array([['two', 'convertible', 'std', 'rwd', 13495.0],\n",
       "       ['two', 'convertible', 'std', 'rwd', 16500.0],\n",
       "       ['two', 'hatchback', 'std', 'rwd', 16500.0],\n",
       "       ['four', 'sedan', 'std', 'fwd', 13950.0],\n",
       "       ['four', 'sedan', 'std', '4wd', 17450.0]], dtype=object)"
      ]
     },
     "execution_count": 63,
     "metadata": {},
     "output_type": "execute_result"
    }
   ],
   "source": [
    "X= df[['doornumber','carbody','aspiration','drivewheel', 'price']]\n",
    "X[0:5].values"
   ]
  },
  {
   "cell_type": "code",
   "execution_count": 66,
   "id": "307908d1",
   "metadata": {},
   "outputs": [
    {
     "data": {
      "text/plain": [
       "sedan          96\n",
       "hatchback      70\n",
       "wagon          25\n",
       "hardtop         8\n",
       "convertible     6\n",
       "Name: carbody, dtype: int64"
      ]
     },
     "execution_count": 66,
     "metadata": {},
     "output_type": "execute_result"
    }
   ],
   "source": [
    "pd.value_counts(df.carbody)"
   ]
  },
  {
   "cell_type": "code",
   "execution_count": 67,
   "id": "3deec313",
   "metadata": {},
   "outputs": [
    {
     "data": {
      "text/plain": [
       "std      168\n",
       "turbo     37\n",
       "Name: aspiration, dtype: int64"
      ]
     },
     "execution_count": 67,
     "metadata": {},
     "output_type": "execute_result"
    }
   ],
   "source": [
    "pd.value_counts(df.aspiration)"
   ]
  },
  {
   "cell_type": "code",
   "execution_count": 68,
   "id": "59d61612",
   "metadata": {},
   "outputs": [
    {
     "data": {
      "text/plain": [
       "fwd    120\n",
       "rwd     76\n",
       "4wd      9\n",
       "Name: drivewheel, dtype: int64"
      ]
     },
     "execution_count": 68,
     "metadata": {},
     "output_type": "execute_result"
    }
   ],
   "source": [
    "pd.value_counts(df.drivewheel)"
   ]
  },
  {
   "cell_type": "code",
   "execution_count": 71,
   "id": "172c9193",
   "metadata": {},
   "outputs": [
    {
     "ename": "ValueError",
     "evalue": "y should be a 1d array, got an array of shape (4, 5) instead.",
     "output_type": "error",
     "traceback": [
      "\u001b[0;31m---------------------------------------------------------------------------\u001b[0m",
      "\u001b[0;31mValueError\u001b[0m                                Traceback (most recent call last)",
      "\u001b[0;32m<ipython-input-71-e6cd7b782a40>\u001b[0m in \u001b[0;36m<module>\u001b[0;34m\u001b[0m\n\u001b[1;32m      3\u001b[0m \u001b[0mle_carbody\u001b[0m\u001b[0;34m=\u001b[0m \u001b[0mpreprocessing\u001b[0m\u001b[0;34m.\u001b[0m\u001b[0mLabelEncoder\u001b[0m\u001b[0;34m(\u001b[0m\u001b[0;34m)\u001b[0m\u001b[0;34m\u001b[0m\u001b[0;34m\u001b[0m\u001b[0m\n\u001b[1;32m      4\u001b[0m \u001b[0mle_carbody\u001b[0m\u001b[0;34m.\u001b[0m\u001b[0mfit\u001b[0m\u001b[0;34m(\u001b[0m\u001b[0;34m[\u001b[0m\u001b[0;34m'sedan'\u001b[0m\u001b[0;34m,\u001b[0m \u001b[0;34m'hatchback'\u001b[0m\u001b[0;34m,\u001b[0m\u001b[0;34m'wagon'\u001b[0m\u001b[0;34m,\u001b[0m\u001b[0;34m'hardtop'\u001b[0m\u001b[0;34m,\u001b[0m\u001b[0;34m'convertible'\u001b[0m\u001b[0;34m]\u001b[0m\u001b[0;34m)\u001b[0m\u001b[0;34m\u001b[0m\u001b[0;34m\u001b[0m\u001b[0m\n\u001b[0;32m----> 5\u001b[0;31m \u001b[0mX\u001b[0m\u001b[0;34m[\u001b[0m\u001b[0;34m:\u001b[0m\u001b[0;36m4\u001b[0m\u001b[0;34m]\u001b[0m\u001b[0;34m=\u001b[0m \u001b[0mle_carbody\u001b[0m\u001b[0;34m.\u001b[0m\u001b[0mtransform\u001b[0m\u001b[0;34m(\u001b[0m\u001b[0mX\u001b[0m\u001b[0;34m[\u001b[0m\u001b[0;34m:\u001b[0m\u001b[0;36m4\u001b[0m\u001b[0;34m]\u001b[0m\u001b[0;34m)\u001b[0m\u001b[0;34m\u001b[0m\u001b[0;34m\u001b[0m\u001b[0m\n\u001b[0m\u001b[1;32m      6\u001b[0m \u001b[0;34m\u001b[0m\u001b[0m\n\u001b[1;32m      7\u001b[0m \u001b[0mle_doornumber\u001b[0m\u001b[0;34m=\u001b[0m \u001b[0mpreprocessing\u001b[0m\u001b[0;34m.\u001b[0m\u001b[0mLabelEncoder\u001b[0m\u001b[0;34m(\u001b[0m\u001b[0;34m)\u001b[0m\u001b[0;34m\u001b[0m\u001b[0;34m\u001b[0m\u001b[0m\n",
      "\u001b[0;32m/Library/Frameworks/Python.framework/Versions/3.9/lib/python3.9/site-packages/sklearn/preprocessing/_label.py\u001b[0m in \u001b[0;36mtransform\u001b[0;34m(self, y)\u001b[0m\n\u001b[1;32m    131\u001b[0m         \"\"\"\n\u001b[1;32m    132\u001b[0m         \u001b[0mcheck_is_fitted\u001b[0m\u001b[0;34m(\u001b[0m\u001b[0mself\u001b[0m\u001b[0;34m)\u001b[0m\u001b[0;34m\u001b[0m\u001b[0;34m\u001b[0m\u001b[0m\n\u001b[0;32m--> 133\u001b[0;31m         \u001b[0my\u001b[0m \u001b[0;34m=\u001b[0m \u001b[0mcolumn_or_1d\u001b[0m\u001b[0;34m(\u001b[0m\u001b[0my\u001b[0m\u001b[0;34m,\u001b[0m \u001b[0mwarn\u001b[0m\u001b[0;34m=\u001b[0m\u001b[0;32mTrue\u001b[0m\u001b[0;34m)\u001b[0m\u001b[0;34m\u001b[0m\u001b[0;34m\u001b[0m\u001b[0m\n\u001b[0m\u001b[1;32m    134\u001b[0m         \u001b[0;31m# transform of empty array is empty array\u001b[0m\u001b[0;34m\u001b[0m\u001b[0;34m\u001b[0m\u001b[0;34m\u001b[0m\u001b[0m\n\u001b[1;32m    135\u001b[0m         \u001b[0;32mif\u001b[0m \u001b[0m_num_samples\u001b[0m\u001b[0;34m(\u001b[0m\u001b[0my\u001b[0m\u001b[0;34m)\u001b[0m \u001b[0;34m==\u001b[0m \u001b[0;36m0\u001b[0m\u001b[0;34m:\u001b[0m\u001b[0;34m\u001b[0m\u001b[0;34m\u001b[0m\u001b[0m\n",
      "\u001b[0;32m/Library/Frameworks/Python.framework/Versions/3.9/lib/python3.9/site-packages/sklearn/utils/validation.py\u001b[0m in \u001b[0;36minner_f\u001b[0;34m(*args, **kwargs)\u001b[0m\n\u001b[1;32m     61\u001b[0m             \u001b[0mextra_args\u001b[0m \u001b[0;34m=\u001b[0m \u001b[0mlen\u001b[0m\u001b[0;34m(\u001b[0m\u001b[0margs\u001b[0m\u001b[0;34m)\u001b[0m \u001b[0;34m-\u001b[0m \u001b[0mlen\u001b[0m\u001b[0;34m(\u001b[0m\u001b[0mall_args\u001b[0m\u001b[0;34m)\u001b[0m\u001b[0;34m\u001b[0m\u001b[0;34m\u001b[0m\u001b[0m\n\u001b[1;32m     62\u001b[0m             \u001b[0;32mif\u001b[0m \u001b[0mextra_args\u001b[0m \u001b[0;34m<=\u001b[0m \u001b[0;36m0\u001b[0m\u001b[0;34m:\u001b[0m\u001b[0;34m\u001b[0m\u001b[0;34m\u001b[0m\u001b[0m\n\u001b[0;32m---> 63\u001b[0;31m                 \u001b[0;32mreturn\u001b[0m \u001b[0mf\u001b[0m\u001b[0;34m(\u001b[0m\u001b[0;34m*\u001b[0m\u001b[0margs\u001b[0m\u001b[0;34m,\u001b[0m \u001b[0;34m**\u001b[0m\u001b[0mkwargs\u001b[0m\u001b[0;34m)\u001b[0m\u001b[0;34m\u001b[0m\u001b[0;34m\u001b[0m\u001b[0m\n\u001b[0m\u001b[1;32m     64\u001b[0m \u001b[0;34m\u001b[0m\u001b[0m\n\u001b[1;32m     65\u001b[0m             \u001b[0;31m# extra_args > 0\u001b[0m\u001b[0;34m\u001b[0m\u001b[0;34m\u001b[0m\u001b[0;34m\u001b[0m\u001b[0m\n",
      "\u001b[0;32m/Library/Frameworks/Python.framework/Versions/3.9/lib/python3.9/site-packages/sklearn/utils/validation.py\u001b[0m in \u001b[0;36mcolumn_or_1d\u001b[0;34m(y, warn)\u001b[0m\n\u001b[1;32m    919\u001b[0m         \u001b[0;32mreturn\u001b[0m \u001b[0mnp\u001b[0m\u001b[0;34m.\u001b[0m\u001b[0mravel\u001b[0m\u001b[0;34m(\u001b[0m\u001b[0my\u001b[0m\u001b[0;34m)\u001b[0m\u001b[0;34m\u001b[0m\u001b[0;34m\u001b[0m\u001b[0m\n\u001b[1;32m    920\u001b[0m \u001b[0;34m\u001b[0m\u001b[0m\n\u001b[0;32m--> 921\u001b[0;31m     raise ValueError(\n\u001b[0m\u001b[1;32m    922\u001b[0m         \u001b[0;34m\"y should be a 1d array, \"\u001b[0m\u001b[0;34m\u001b[0m\u001b[0;34m\u001b[0m\u001b[0m\n\u001b[1;32m    923\u001b[0m         \"got an array of shape {} instead.\".format(shape))\n",
      "\u001b[0;31mValueError\u001b[0m: y should be a 1d array, got an array of shape (4, 5) instead."
     ]
    }
   ],
   "source": [
    "from sklearn import preprocessing\n",
    "\n",
    "le_carbody= preprocessing.LabelEncoder()\n",
    "le_carbody.fit(['sedan', 'hatchback','wagon','hardtop','convertible'])\n",
    "X[:4]= le_carbody.transform(X[:4])\n",
    "\n",
    "le_doornumber= preprocessing.LabelEncoder()\n",
    "le_doornumber.fit(['two','four'])\n",
    "X[:,1]= le_doornumber(X[:,1])\n",
    "\n",
    "le_aspiration= preprocessing.LabelEncoder()\n",
    "le_aspiration.fit(['std','turbo'])\n",
    "X[:,1]= le_aspiration.transform(X[:,1])\n",
    "\n",
    "le_drivewheel= preprocessing.LabelEncoder()\n",
    "le_drivewheel.fit(['fwd','rwd', '4wd'])\n",
    "X[:,2]= le_drivewheel.transform(X[:,2])"
   ]
  },
  {
   "cell_type": "code",
   "execution_count": null,
   "id": "c7879aac",
   "metadata": {},
   "outputs": [],
   "source": []
  }
 ],
 "metadata": {
  "kernelspec": {
   "display_name": "Python 3",
   "language": "python",
   "name": "python3"
  },
  "language_info": {
   "codemirror_mode": {
    "name": "ipython",
    "version": 3
   },
   "file_extension": ".py",
   "mimetype": "text/x-python",
   "name": "python",
   "nbconvert_exporter": "python",
   "pygments_lexer": "ipython3",
   "version": "3.9.5"
  }
 },
 "nbformat": 4,
 "nbformat_minor": 5
}
